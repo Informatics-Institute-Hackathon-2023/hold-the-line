{
 "cells": [
  {
   "attachments": {},
   "cell_type": "markdown",
   "id": "562138de",
   "metadata": {},
   "source": [
    "Looking at PhysioNet's MIMIC-Demo database of EHR data\n",
    "\thttps://physionet.org/content/mimiciii-demo/1.4/\n",
    "Distributed as CSV files, they recommend using SQLLite, and particularly SqlLiteBrowser to explore"
   ]
  },
  {
   "cell_type": "code",
   "execution_count": 4,
   "id": "d80ad404",
   "metadata": {
    "ExecuteTime": {
     "end_time": "2023-09-10T15:31:14.724900Z",
     "start_time": "2023-09-10T15:31:13.633048Z"
    }
   },
   "outputs": [
    {
     "name": "stderr",
     "output_type": "stream",
     "text": [
      "--2023-09-10 10:31:13--  https://physionet.org/static/published-projects/mimiciii-demo/mimic-iii-clinical-database-demo-1.4.zip\n",
      "Resolving physionet.org (physionet.org)... 18.18.42.54\n",
      "Connecting to physionet.org (physionet.org)|18.18.42.54|:443... connected.\n",
      "HTTP request sent, awaiting response... 304 Not Modified\n",
      "File ‘mimic-iii-clinical-database-demo-1.4.zip’ not modified on server. Omitting download.\n",
      "\n"
     ]
    },
    {
     "name": "stdout",
     "output_type": "stream",
     "text": [
      "Archive:  mimic-iii-clinical-database-demo-1.4.zip\n",
      "   creating: mimic-iii-clinical-database-demo-1.4/\n",
      "  inflating: mimic-iii-clinical-database-demo-1.4/ADMISSIONS.csv  \n",
      "  inflating: mimic-iii-clinical-database-demo-1.4/CALLOUT.csv  \n",
      "  inflating: mimic-iii-clinical-database-demo-1.4/CAREGIVERS.csv  \n",
      "  inflating: mimic-iii-clinical-database-demo-1.4/CHARTEVENTS.csv  \n",
      "  inflating: mimic-iii-clinical-database-demo-1.4/CPTEVENTS.csv  \n",
      "  inflating: mimic-iii-clinical-database-demo-1.4/DATETIMEEVENTS.csv  \n",
      "  inflating: mimic-iii-clinical-database-demo-1.4/D_CPT.csv  \n",
      "  inflating: mimic-iii-clinical-database-demo-1.4/DIAGNOSES_ICD.csv  \n",
      "  inflating: mimic-iii-clinical-database-demo-1.4/D_ICD_DIAGNOSES.csv  \n",
      "  inflating: mimic-iii-clinical-database-demo-1.4/D_ICD_PROCEDURES.csv  \n",
      "  inflating: mimic-iii-clinical-database-demo-1.4/D_ITEMS.csv  \n",
      "  inflating: mimic-iii-clinical-database-demo-1.4/D_LABITEMS.csv  \n",
      "  inflating: mimic-iii-clinical-database-demo-1.4/DRGCODES.csv  \n",
      "  inflating: mimic-iii-clinical-database-demo-1.4/ICUSTAYS.csv  \n",
      "  inflating: mimic-iii-clinical-database-demo-1.4/INPUTEVENTS_CV.csv  \n",
      "  inflating: mimic-iii-clinical-database-demo-1.4/INPUTEVENTS_MV.csv  \n",
      "  inflating: mimic-iii-clinical-database-demo-1.4/LABEVENTS.csv  \n",
      "  inflating: mimic-iii-clinical-database-demo-1.4/LICENSE.txt  \n",
      "  inflating: mimic-iii-clinical-database-demo-1.4/MICROBIOLOGYEVENTS.csv  \n",
      "  inflating: mimic-iii-clinical-database-demo-1.4/NOTEEVENTS.csv  \n",
      "  inflating: mimic-iii-clinical-database-demo-1.4/OUTPUTEVENTS.csv  \n",
      "  inflating: mimic-iii-clinical-database-demo-1.4/PATIENTS.csv  \n",
      "  inflating: mimic-iii-clinical-database-demo-1.4/PRESCRIPTIONS.csv  \n",
      "  inflating: mimic-iii-clinical-database-demo-1.4/PROCEDUREEVENTS_MV.csv  \n",
      "  inflating: mimic-iii-clinical-database-demo-1.4/PROCEDURES_ICD.csv  \n",
      "  inflating: mimic-iii-clinical-database-demo-1.4/SERVICES.csv  \n",
      "  inflating: mimic-iii-clinical-database-demo-1.4/SHA256SUMS.txt  \n",
      "  inflating: mimic-iii-clinical-database-demo-1.4/TRANSFERS.csv  \n"
     ]
    }
   ],
   "source": [
    "%%bash \n",
    "# download zip'ed version of db\n",
    "wget -N https://physionet.org/static/published-projects/mimiciii-demo/mimic-iii-clinical-database-demo-1.4.zip\n",
    "unzip    mimic-iii-clinical-database-demo-1.4.zip"
   ]
  },
  {
   "cell_type": "code",
   "execution_count": 10,
   "id": "a7d606fe",
   "metadata": {
    "ExecuteTime": {
     "end_time": "2023-09-10T15:40:26.280619Z",
     "start_time": "2023-09-10T15:40:25.836644Z"
    }
   },
   "outputs": [
    {
     "name": "stdout",
     "output_type": "stream",
     "text": [
      "mimic-iii-clinical-database-demo-1.4/DIAGNOSES_ICD.csv:0\n",
      "mimic-iii-clinical-database-demo-1.4/D_ICD_DIAGNOSES.csv:0\n",
      "mimic-iii-clinical-database-demo-1.4/CPTEVENTS.csv:0\n",
      "mimic-iii-clinical-database-demo-1.4/D_CPT.csv:0\n",
      "mimic-iii-clinical-database-demo-1.4/D_ICD_PROCEDURES.csv:0\n",
      "mimic-iii-clinical-database-demo-1.4/PROCEDUREEVENTS_MV.csv:0\n",
      "mimic-iii-clinical-database-demo-1.4/PROCEDURES_ICD.csv:0\n"
     ]
    }
   ],
   "source": [
    "# Check for our ICD10 codes , and CPT codes\n",
    "!grep -c T80.21 mimic-iii-clinical-database-demo-1.4/*DIAG*.csv\n",
    "\n",
    "!grep -wc 36555 mimic-iii-clinical-database-demo-1.4/*CPT*.csv mimic-iii-clinical-database-demo-1.4/*PROCED*.csv "
   ]
  },
  {
   "cell_type": "code",
   "execution_count": 14,
   "id": "5c0de126",
   "metadata": {
    "ExecuteTime": {
     "end_time": "2023-09-10T15:46:38.531650Z",
     "start_time": "2023-09-10T15:46:38.362718Z"
    }
   },
   "outputs": [
    {
     "name": "stdout",
     "output_type": "stream",
     "text": [
      "11416,99631,Malfunc urethral cath,Mechanical complication due to urethral (indwelling) \u001b[01;31m\u001b[Kcatheter\u001b[m\u001b[K\r\n",
      "11433,99656,Comp-periton dialys cath,Mechanical complication due to peritoneal dialysis \u001b[01;31m\u001b[Kcatheter\u001b[m\u001b[K\r\n",
      "11440,99664,React-indwell urin cath,Infection and inflammatory reaction due to indwelling urinary \u001b[01;31m\u001b[Kcatheter\u001b[m\u001b[K\r\n",
      "11627,99668,React-periton dialy cath,Infection and inflammatory reaction due to peritoneal dialysis \u001b[01;31m\u001b[Kcatheter\u001b[m\u001b[K\r\n",
      "12308,V561,Ft/adj xtrcorp dial cath,Fitting and adjustment of extracorporeal dialysis \u001b[01;31m\u001b[Kcatheter\u001b[m\u001b[K\r\n",
      "12309,V562,Fit/adj perit dial cath,Fitting and adjustment of peritoneal dialysis \u001b[01;31m\u001b[Kcatheter\u001b[m\u001b[K\r\n",
      "12596,E8716,FB post heart \u001b[01;31m\u001b[Kcatheter\u001b[m\u001b[K,Foreign object left in body during heart catheterization\r\n",
      "12765,E8717,FB post-\u001b[01;31m\u001b[Kcatheter\u001b[m\u001b[K removal,Foreign object left in body during removal of \u001b[01;31m\u001b[Kcatheter\u001b[m\u001b[K or packing\r\n",
      "12809,V5881,Fit/adj vascular cathetr,Fitting and adjustment of vascular \u001b[01;31m\u001b[Kcatheter\u001b[m\u001b[K\r\n",
      "12810,V5882,Fit/adj non-vsc cath NEC,\"Fitting and adjustment of nonvascular \u001b[01;31m\u001b[Kcatheter\u001b[m\u001b[K, NEC\"\r\n",
      "13214,99931,Oth/uns inf-cen ven cath,Other and unspecified infection due to central venous \u001b[01;31m\u001b[Kcatheter\u001b[m\u001b[K\r\n",
      "13215,99932,Blood inf dt cen ven cth,Bloodstream infection due to central venous \u001b[01;31m\u001b[Kcatheter\u001b[m\u001b[K\r\n",
      "13216,99933,Lcl inf dt cen ven cth,Local infection due to central venous \u001b[01;31m\u001b[Kcatheter\u001b[m\u001b[K\r\n",
      "13384,E8725,Fail sterile \u001b[01;31m\u001b[Kcatheter\u001b[m\u001b[K,\"Failure of sterile precautions during aspiration of fluid or tissue, puncture, and catheterization\"\r\n"
     ]
    }
   ],
   "source": [
    "# looks like they're using ICD-9, and have the ICD-9 codes we want\n",
    "!grep -iw --color=yes catheter mimic-iii-clinical-database-demo-1.4/D_ICD_DIAGNOSES.csv"
   ]
  },
  {
   "cell_type": "code",
   "execution_count": 16,
   "id": "d121f03c",
   "metadata": {
    "ExecuteTime": {
     "end_time": "2023-09-10T15:48:39.657959Z",
     "start_time": "2023-09-10T15:48:39.459006Z"
    }
   },
   "outputs": [
    {
     "name": "stdout",
     "output_type": "stream",
     "text": [
      "mimic-iii-clinical-database-demo-1.4/DIAGNOSES_ICD.csv:0\n",
      "mimic-iii-clinical-database-demo-1.4/D_ICD_DIAGNOSES.csv:3\n"
     ]
    }
   ],
   "source": [
    "# but no one in this data set actually gets a catheter infection\n",
    "!egrep -wc \"(99931|99932|99933)\" mimic-iii-clinical-database-demo-1.4/*DIAG*.csv"
   ]
  }
 ],
 "metadata": {
  "anaconda-cloud": {},
  "kernelspec": {
   "display_name": "Python 3 (ipykernel)",
   "language": "python",
   "name": "python3"
  },
  "language_info": {
   "codemirror_mode": {
    "name": "ipython",
    "version": 3
   },
   "file_extension": ".py",
   "mimetype": "text/x-python",
   "name": "python",
   "nbconvert_exporter": "python",
   "pygments_lexer": "ipython3",
   "version": "3.9.12"
  },
  "toc": {
   "base_numbering": 1,
   "nav_menu": {},
   "number_sections": true,
   "sideBar": true,
   "skip_h1_title": false,
   "title_cell": "Table of Contents",
   "title_sidebar": "Contents",
   "toc_cell": false,
   "toc_position": {},
   "toc_section_display": true,
   "toc_window_display": false
  }
 },
 "nbformat": 4,
 "nbformat_minor": 5
}
