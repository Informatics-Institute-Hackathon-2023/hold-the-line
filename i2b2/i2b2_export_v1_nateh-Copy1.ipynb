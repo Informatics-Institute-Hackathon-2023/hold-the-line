{
 "cells": [
  {
   "cell_type": "markdown",
   "id": "bc46df57",
   "metadata": {},
   "source": [
    "# i2b2 export analysis (v1)\n"
   ]
  },
  {
   "cell_type": "code",
   "execution_count": 1,
   "id": "ba59d43d",
   "metadata": {
    "ExecuteTime": {
     "end_time": "2023-09-11T02:24:41.454680Z",
     "start_time": "2023-09-11T02:24:39.251550Z"
    }
   },
   "outputs": [],
   "source": [
    "import pandas as pd\n",
    "import matplotlib.pyplot as plt"
   ]
  },
  {
   "cell_type": "markdown",
   "id": "cdedd574",
   "metadata": {},
   "source": [
    "# load data"
   ]
  },
  {
   "cell_type": "code",
   "execution_count": 11,
   "id": "980edbd6",
   "metadata": {
    "ExecuteTime": {
     "end_time": "2023-09-11T02:20:35.337489Z",
     "start_time": "2023-09-11T02:20:35.305828Z"
    }
   },
   "outputs": [],
   "source": [
    "#declare files\n",
    "casefile = \"/home/nchendri/hold-the-line/i2b2/i2b2-export_patient-central-line-infection-500_20230911-044106.csv\"\n",
    "controlfile = \"/home/nchendri/hold-the-line/i2b2/i2b2-export_patient-central-line-500_20230911-042706.csv\"\n",
    "# load data\n",
    "case = pd.read_csv(casefile)\n",
    "control = pd.read_csv(controlfile)"
   ]
  },
  {
   "cell_type": "markdown",
   "id": "9a27bb24",
   "metadata": {},
   "source": [
    "# visualize data"
   ]
  },
  {
   "cell_type": "code",
   "execution_count": 3,
   "id": "1ada48b9",
   "metadata": {
    "ExecuteTime": {
     "end_time": "2023-09-11T02:26:11.151666Z",
     "start_time": "2023-09-11T02:26:10.962956Z"
    },
    "scrolled": true
   },
   "outputs": [
    {
     "data": {
      "image/png": "[encoded data removed]",
      "text/plain": [
       "<Figure size 576x432 with 1 Axes>"
      ]
     },
     "metadata": {
      "needs_background": "light"
     },
     "output_type": "display_data"
    },
    {
     "data": {
      "image/png": "[encoded data removed]",
      "text/plain": [
       "<Figure size 576x432 with 1 Axes>"
      ]
     },
     "metadata": {
      "needs_background": "light"
     },
     "output_type": "display_data"
    }
   ],
   "source": [
    "# histograms\n",
    "plt.figure(figsize=(8, 6))  # Optional: Set the figure size\n",
    "plt.hist(case[\"Race\"], color='skyblue', edgecolor='black')\n",
    "plt.xlabel(\"Race\")\n",
    "plt.ylabel('Frequency')\n",
    "plt.title(f'Histogram of Race (cases)')\n",
    "plt.grid(True)\n",
    "plt.show()\n",
    "\n",
    "# controls \n",
    "plt.figure(figsize=(8, 6))  # Optional: Set the figure size\n",
    "plt.hist(control[\"Race\"], color='skyblue', edgecolor='black')\n",
    "plt.xlabel(\"Race\")\n",
    "plt.ylabel('Frequency')\n",
    "plt.title(f'Histogram of Race (controls)')\n",
    "plt.grid(True)\n",
    "plt.show()"
   ]
  },
  {
   "cell_type": "code",
   "execution_count": 4,
   "id": "a233e816",
   "metadata": {},
   "outputs": [],
   "source": [
    "whitecase = case[\"Race\"].value_counts()['White']\n",
    "blackcase = case[\"Race\"].value_counts()['Black or African American']\n",
    "whitecontrol = control[\"Race\"].value_counts()['White']\n",
    "blackcontrol = control[\"Race\"].value_counts()['Black or African American']"
   ]
  },
  {
   "cell_type": "code",
   "execution_count": 5,
   "id": "1429fcb8",
   "metadata": {},
   "outputs": [
    {
     "name": "stdout",
     "output_type": "stream",
     "text": [
      "p value is 1.6296079804162598e-05\n",
      "Dependent (reject H0)\n"
     ]
    }
   ],
   "source": [
    "from scipy.stats import chi2_contingency\n",
    " \n",
    "# defining the table\n",
    "data = [[whitecase, blackcase], [whitecontrol, blackcontrol]]\n",
    "\n",
    "#            white        black\n",
    "# Case     casewhite    caseblack\n",
    "#control   whitecontrol blackcontrol\n",
    "\n",
    "stat, p, dof, expected = chi2_contingency(data)\n",
    " \n",
    "# interpret p-value\n",
    "alpha = 0.05\n",
    "print(\"p value is \" + str(p))\n",
    "if p <= alpha:\n",
    "    print('Dependent (reject H0)')\n",
    "else:\n",
    "    print('Independent (H0 holds true)')"
   ]
  },
  {
   "cell_type": "code",
   "execution_count": 6,
   "id": "53fb9634",
   "metadata": {},
   "outputs": [],
   "source": [
    "mancase = case[\"Sex\"].value_counts()['MALE']\n",
    "womancase = case[\"Sex\"].value_counts()['FEMALE']\n",
    "mancontrol = control[\"Sex\"].value_counts()['MALE']\n",
    "womancontrol = control[\"Sex\"].value_counts()['FEMALE']"
   ]
  },
  {
   "cell_type": "code",
   "execution_count": 7,
   "id": "ee384a76",
   "metadata": {},
   "outputs": [
    {
     "name": "stdout",
     "output_type": "stream",
     "text": [
      "p value is 0.00027920211049463345\n",
      "Dependent (reject H0)\n"
     ]
    }
   ],
   "source": [
    "# defining the table\n",
    "data = [[mancase, womancase], [mancontrol, womancontrol]]\n",
    "\n",
    "#            man          woman\n",
    "# Case     mancase      womancase\n",
    "#control   mancontrol   womancontrol\n",
    "\n",
    "stat, p, dof, expected = chi2_contingency(data)\n",
    " \n",
    "# interpret p-value\n",
    "alpha = 0.05\n",
    "print(\"p value is \" + str(p))\n",
    "if p <= alpha:\n",
    "    print('Dependent (reject H0)')\n",
    "else:\n",
    "    print('Independent (H0 holds true)')"
   ]
  },
  {
   "cell_type": "code",
   "execution_count": 8,
   "id": "39be75dd",
   "metadata": {},
   "outputs": [
    {
     "data": {
      "text/html": [
       "<div>\n",
       "<style scoped>\n",
       "    .dataframe tbody tr th:only-of-type {\n",
       "        vertical-align: middle;\n",
       "    }\n",
       "\n",
       "    .dataframe tbody tr th {\n",
       "        vertical-align: top;\n",
       "    }\n",
       "\n",
       "    .dataframe thead th {\n",
       "        text-align: right;\n",
       "    }\n",
       "</style>\n",
       "<table border=\"1\" class=\"dataframe\">\n",
       "  <thead>\n",
       "    <tr style=\"text-align: right;\">\n",
       "      <th></th>\n",
       "      <th></th>\n",
       "      <th>Patient ID</th>\n",
       "      <th>Sex</th>\n",
       "      <th>Age in Years</th>\n",
       "      <th>Race</th>\n",
       "      <th>Infection due to central venous catheter (ICD10:T80.21)</th>\n",
       "      <th>Unnamed: 6</th>\n",
       "    </tr>\n",
       "  </thead>\n",
       "  <tbody>\n",
       "    <tr>\n",
       "      <th>0</th>\n",
       "      <td>1</td>\n",
       "      <td>202928</td>\n",
       "      <td>MALE</td>\n",
       "      <td>-1</td>\n",
       "      <td>White</td>\n",
       "      <td>ICD9:999.31 = OTHER AND UNSPECIFIED INFECTION ...</td>\n",
       "      <td>NaN</td>\n",
       "    </tr>\n",
       "    <tr>\n",
       "      <th>1</th>\n",
       "      <td>2</td>\n",
       "      <td>314213</td>\n",
       "      <td>FEMALE</td>\n",
       "      <td>-1</td>\n",
       "      <td>Black or African American</td>\n",
       "      <td>ICD9:999.31 = OTHER AND UNSPECIFIED INFECTION ...</td>\n",
       "      <td>NaN</td>\n",
       "    </tr>\n",
       "    <tr>\n",
       "      <th>2</th>\n",
       "      <td>3</td>\n",
       "      <td>485745</td>\n",
       "      <td>MALE</td>\n",
       "      <td>-1</td>\n",
       "      <td>White</td>\n",
       "      <td>ICD9:999.31 = OTHER AND UNSPECIFIED INFECTION ...</td>\n",
       "      <td>NaN</td>\n",
       "    </tr>\n",
       "    <tr>\n",
       "      <th>3</th>\n",
       "      <td>4</td>\n",
       "      <td>768783</td>\n",
       "      <td>MALE</td>\n",
       "      <td>-1</td>\n",
       "      <td>White</td>\n",
       "      <td>ICD9:999.32 = BLOODSTREAM INFECTION DUE TO CEN...</td>\n",
       "      <td>NaN</td>\n",
       "    </tr>\n",
       "    <tr>\n",
       "      <th>4</th>\n",
       "      <td>5</td>\n",
       "      <td>834924</td>\n",
       "      <td>FEMALE</td>\n",
       "      <td>58</td>\n",
       "      <td>White</td>\n",
       "      <td>ICD9:999.31 = OTHER AND UNSPECIFIED INFECTION ...</td>\n",
       "      <td>NaN</td>\n",
       "    </tr>\n",
       "    <tr>\n",
       "      <th>...</th>\n",
       "      <td>...</td>\n",
       "      <td>...</td>\n",
       "      <td>...</td>\n",
       "      <td>...</td>\n",
       "      <td>...</td>\n",
       "      <td>...</td>\n",
       "      <td>...</td>\n",
       "    </tr>\n",
       "    <tr>\n",
       "      <th>495</th>\n",
       "      <td>496</td>\n",
       "      <td>2220613</td>\n",
       "      <td>FEMALE</td>\n",
       "      <td>72</td>\n",
       "      <td>White</td>\n",
       "      <td>ICD9:999.31 = OTHER AND UNSPECIFIED INFECTION ...</td>\n",
       "      <td>NaN</td>\n",
       "    </tr>\n",
       "    <tr>\n",
       "      <th>496</th>\n",
       "      <td>497</td>\n",
       "      <td>2228753</td>\n",
       "      <td>FEMALE</td>\n",
       "      <td>52</td>\n",
       "      <td>Hispanic or Latino</td>\n",
       "      <td>ICD9:999.31 = OTHER AND UNSPECIFIED INFECTION ...</td>\n",
       "      <td>NaN</td>\n",
       "    </tr>\n",
       "    <tr>\n",
       "      <th>497</th>\n",
       "      <td>498</td>\n",
       "      <td>2346020</td>\n",
       "      <td>MALE</td>\n",
       "      <td>30</td>\n",
       "      <td>White</td>\n",
       "      <td>ICD9:999.31 = OTHER AND UNSPECIFIED INFECTION ...</td>\n",
       "      <td>NaN</td>\n",
       "    </tr>\n",
       "    <tr>\n",
       "      <th>498</th>\n",
       "      <td>499</td>\n",
       "      <td>2468128</td>\n",
       "      <td>MALE</td>\n",
       "      <td>-1</td>\n",
       "      <td>White</td>\n",
       "      <td>ICD9:999.31 = OTHER AND UNSPECIFIED INFECTION ...</td>\n",
       "      <td>NaN</td>\n",
       "    </tr>\n",
       "    <tr>\n",
       "      <th>499</th>\n",
       "      <td>500</td>\n",
       "      <td>10743143</td>\n",
       "      <td>FEMALE</td>\n",
       "      <td>40</td>\n",
       "      <td>White</td>\n",
       "      <td>ICD9:999.31 = OTHER AND UNSPECIFIED INFECTION ...</td>\n",
       "      <td>NaN</td>\n",
       "    </tr>\n",
       "  </tbody>\n",
       "</table>\n",
       "<p>500 rows × 7 columns</p>\n",
       "</div>"
      ],
      "text/plain": [
       "          Patient ID     Sex  Age in Years                       Race  \\\n",
       "0      1      202928    MALE            -1                      White   \n",
       "1      2      314213  FEMALE            -1  Black or African American   \n",
       "2      3      485745    MALE            -1                      White   \n",
       "3      4      768783    MALE            -1                      White   \n",
       "4      5      834924  FEMALE            58                      White   \n",
       "..   ...         ...     ...           ...                        ...   \n",
       "495  496     2220613  FEMALE            72                      White   \n",
       "496  497     2228753  FEMALE            52         Hispanic or Latino   \n",
       "497  498     2346020    MALE            30                      White   \n",
       "498  499     2468128    MALE            -1                      White   \n",
       "499  500    10743143  FEMALE            40                      White   \n",
       "\n",
       "    Infection due to central venous catheter (ICD10:T80.21)  Unnamed: 6  \n",
       "0    ICD9:999.31 = OTHER AND UNSPECIFIED INFECTION ...              NaN  \n",
       "1    ICD9:999.31 = OTHER AND UNSPECIFIED INFECTION ...              NaN  \n",
       "2    ICD9:999.31 = OTHER AND UNSPECIFIED INFECTION ...              NaN  \n",
       "3    ICD9:999.32 = BLOODSTREAM INFECTION DUE TO CEN...              NaN  \n",
       "4    ICD9:999.31 = OTHER AND UNSPECIFIED INFECTION ...              NaN  \n",
       "..                                                 ...              ...  \n",
       "495  ICD9:999.31 = OTHER AND UNSPECIFIED INFECTION ...              NaN  \n",
       "496  ICD9:999.31 = OTHER AND UNSPECIFIED INFECTION ...              NaN  \n",
       "497  ICD9:999.31 = OTHER AND UNSPECIFIED INFECTION ...              NaN  \n",
       "498  ICD9:999.31 = OTHER AND UNSPECIFIED INFECTION ...              NaN  \n",
       "499  ICD9:999.31 = OTHER AND UNSPECIFIED INFECTION ...              NaN  \n",
       "\n",
       "[500 rows x 7 columns]"
      ]
     },
     "execution_count": 8,
     "metadata": {},
     "output_type": "execute_result"
    }
   ],
   "source": [
    "case"
   ]
  },
  {
   "cell_type": "code",
   "execution_count": 9,
   "id": "54a202bd",
   "metadata": {},
   "outputs": [
    {
     "ename": "KeyError",
     "evalue": "'Marital Status'",
     "output_type": "error",
     "traceback": [
      "\u001b[0;31m---------------------------------------------------------------------------\u001b[0m",
      "\u001b[0;31mKeyError\u001b[0m                                  Traceback (most recent call last)",
      "File \u001b[0;32m/share/apps/rc/software/Anaconda3/2022.05/lib/python3.9/site-packages/pandas/core/indexes/base.py:3621\u001b[0m, in \u001b[0;36mIndex.get_loc\u001b[0;34m(self, key, method, tolerance)\u001b[0m\n\u001b[1;32m   3620\u001b[0m \u001b[38;5;28;01mtry\u001b[39;00m:\n\u001b[0;32m-> 3621\u001b[0m     \u001b[38;5;28;01mreturn\u001b[39;00m \u001b[38;5;28;43mself\u001b[39;49m\u001b[38;5;241;43m.\u001b[39;49m\u001b[43m_engine\u001b[49m\u001b[38;5;241;43m.\u001b[39;49m\u001b[43mget_loc\u001b[49m\u001b[43m(\u001b[49m\u001b[43mcasted_key\u001b[49m\u001b[43m)\u001b[49m\n\u001b[1;32m   3622\u001b[0m \u001b[38;5;28;01mexcept\u001b[39;00m \u001b[38;5;167;01mKeyError\u001b[39;00m \u001b[38;5;28;01mas\u001b[39;00m err:\n",
      "File \u001b[0;32m/share/apps/rc/software/Anaconda3/2022.05/lib/python3.9/site-packages/pandas/_libs/index.pyx:136\u001b[0m, in \u001b[0;36mpandas._libs.index.IndexEngine.get_loc\u001b[0;34m()\u001b[0m\n",
      "File \u001b[0;32m/share/apps/rc/software/Anaconda3/2022.05/lib/python3.9/site-packages/pandas/_libs/index.pyx:163\u001b[0m, in \u001b[0;36mpandas._libs.index.IndexEngine.get_loc\u001b[0;34m()\u001b[0m\n",
      "File \u001b[0;32mpandas/_libs/hashtable_class_helper.pxi:5198\u001b[0m, in \u001b[0;36mpandas._libs.hashtable.PyObjectHashTable.get_item\u001b[0;34m()\u001b[0m\n",
      "File \u001b[0;32mpandas/_libs/hashtable_class_helper.pxi:5206\u001b[0m, in \u001b[0;36mpandas._libs.hashtable.PyObjectHashTable.get_item\u001b[0;34m()\u001b[0m\n",
      "\u001b[0;31mKeyError\u001b[0m: 'Marital Status'",
      "\nThe above exception was the direct cause of the following exception:\n",
      "\u001b[0;31mKeyError\u001b[0m                                  Traceback (most recent call last)",
      "Input \u001b[0;32mIn [9]\u001b[0m, in \u001b[0;36m<cell line: 1>\u001b[0;34m()\u001b[0m\n\u001b[0;32m----> 1\u001b[0m \u001b[38;5;28mprint\u001b[39m(\u001b[43mcase\u001b[49m\u001b[43m[\u001b[49m\u001b[38;5;124;43m\"\u001b[39;49m\u001b[38;5;124;43mMarital Status\u001b[39;49m\u001b[38;5;124;43m\"\u001b[39;49m\u001b[43m]\u001b[49m\u001b[38;5;241m.\u001b[39mvalue_counts()[\u001b[38;5;124m'\u001b[39m\u001b[38;5;124mSingle\u001b[39m\u001b[38;5;124m'\u001b[39m], \u001b[38;5;124m'\u001b[39m\u001b[38;5;124m \u001b[39m\u001b[38;5;124m'\u001b[39m, case[\u001b[38;5;124m\"\u001b[39m\u001b[38;5;124mMarital Status\u001b[39m\u001b[38;5;124m\"\u001b[39m]\u001b[38;5;241m.\u001b[39mvalue_counts()[\u001b[38;5;124m'\u001b[39m\u001b[38;5;124mMarried\u001b[39m\u001b[38;5;124m'\u001b[39m], \u001b[38;5;124m'\u001b[39m\u001b[38;5;124m \u001b[39m\u001b[38;5;124m'\u001b[39m, case[\u001b[38;5;124m\"\u001b[39m\u001b[38;5;124mMarital Status\u001b[39m\u001b[38;5;124m\"\u001b[39m]\u001b[38;5;241m.\u001b[39mvalue_counts()[\u001b[38;5;124m'\u001b[39m\u001b[38;5;124mSeparated\u001b[39m\u001b[38;5;124m'\u001b[39m], \u001b[38;5;124m'\u001b[39m\u001b[38;5;124m \u001b[39m\u001b[38;5;124m'\u001b[39m, case[\u001b[38;5;124m\"\u001b[39m\u001b[38;5;124mMarital Status\u001b[39m\u001b[38;5;124m\"\u001b[39m]\u001b[38;5;241m.\u001b[39mvalue_counts()[\u001b[38;5;124m'\u001b[39m\u001b[38;5;124mDivorced\u001b[39m\u001b[38;5;124m'\u001b[39m], \u001b[38;5;124m'\u001b[39m\u001b[38;5;124m \u001b[39m\u001b[38;5;124m'\u001b[39m, case[\u001b[38;5;124m\"\u001b[39m\u001b[38;5;124mMarital Status\u001b[39m\u001b[38;5;124m\"\u001b[39m]\u001b[38;5;241m.\u001b[39mvalue_counts()[\u001b[38;5;124m'\u001b[39m\u001b[38;5;124mUnknown\u001b[39m\u001b[38;5;124m'\u001b[39m])\n",
      "File \u001b[0;32m/share/apps/rc/software/Anaconda3/2022.05/lib/python3.9/site-packages/pandas/core/frame.py:3505\u001b[0m, in \u001b[0;36mDataFrame.__getitem__\u001b[0;34m(self, key)\u001b[0m\n\u001b[1;32m   3503\u001b[0m \u001b[38;5;28;01mif\u001b[39;00m \u001b[38;5;28mself\u001b[39m\u001b[38;5;241m.\u001b[39mcolumns\u001b[38;5;241m.\u001b[39mnlevels \u001b[38;5;241m>\u001b[39m \u001b[38;5;241m1\u001b[39m:\n\u001b[1;32m   3504\u001b[0m     \u001b[38;5;28;01mreturn\u001b[39;00m \u001b[38;5;28mself\u001b[39m\u001b[38;5;241m.\u001b[39m_getitem_multilevel(key)\n\u001b[0;32m-> 3505\u001b[0m indexer \u001b[38;5;241m=\u001b[39m \u001b[38;5;28;43mself\u001b[39;49m\u001b[38;5;241;43m.\u001b[39;49m\u001b[43mcolumns\u001b[49m\u001b[38;5;241;43m.\u001b[39;49m\u001b[43mget_loc\u001b[49m\u001b[43m(\u001b[49m\u001b[43mkey\u001b[49m\u001b[43m)\u001b[49m\n\u001b[1;32m   3506\u001b[0m \u001b[38;5;28;01mif\u001b[39;00m is_integer(indexer):\n\u001b[1;32m   3507\u001b[0m     indexer \u001b[38;5;241m=\u001b[39m [indexer]\n",
      "File \u001b[0;32m/share/apps/rc/software/Anaconda3/2022.05/lib/python3.9/site-packages/pandas/core/indexes/base.py:3623\u001b[0m, in \u001b[0;36mIndex.get_loc\u001b[0;34m(self, key, method, tolerance)\u001b[0m\n\u001b[1;32m   3621\u001b[0m     \u001b[38;5;28;01mreturn\u001b[39;00m \u001b[38;5;28mself\u001b[39m\u001b[38;5;241m.\u001b[39m_engine\u001b[38;5;241m.\u001b[39mget_loc(casted_key)\n\u001b[1;32m   3622\u001b[0m \u001b[38;5;28;01mexcept\u001b[39;00m \u001b[38;5;167;01mKeyError\u001b[39;00m \u001b[38;5;28;01mas\u001b[39;00m err:\n\u001b[0;32m-> 3623\u001b[0m     \u001b[38;5;28;01mraise\u001b[39;00m \u001b[38;5;167;01mKeyError\u001b[39;00m(key) \u001b[38;5;28;01mfrom\u001b[39;00m \u001b[38;5;21;01merr\u001b[39;00m\n\u001b[1;32m   3624\u001b[0m \u001b[38;5;28;01mexcept\u001b[39;00m \u001b[38;5;167;01mTypeError\u001b[39;00m:\n\u001b[1;32m   3625\u001b[0m     \u001b[38;5;66;03m# If we have a listlike key, _check_indexing_error will raise\u001b[39;00m\n\u001b[1;32m   3626\u001b[0m     \u001b[38;5;66;03m#  InvalidIndexError. Otherwise we fall through and re-raise\u001b[39;00m\n\u001b[1;32m   3627\u001b[0m     \u001b[38;5;66;03m#  the TypeError.\u001b[39;00m\n\u001b[1;32m   3628\u001b[0m     \u001b[38;5;28mself\u001b[39m\u001b[38;5;241m.\u001b[39m_check_indexing_error(key)\n",
      "\u001b[0;31mKeyError\u001b[0m: 'Marital Status'"
     ]
    }
   ],
   "source": [
    "print(case[\"Marital Status\"].value_counts()['Single'], ' ', case[\"Marital Status\"].value_counts()['Married'], ' ', case[\"Marital Status\"].value_counts()['Separated'], ' ', case[\"Marital Status\"].value_counts()['Divorced'], ' ', case[\"Marital Status\"].value_counts()['Unknown'])"
   ]
  },
  {
   "cell_type": "code",
   "execution_count": null,
   "id": "44ed9f6a",
   "metadata": {},
   "outputs": [],
   "source": [
    "print(control[\"Marital Status\"].value_counts()['Single'], ' ', control[\"Marital Status\"].value_counts()['Married'], ' ', control[\"Marital Status\"].value_counts()['Separated'], ' ', control[\"Marital Status\"].value_counts()['Divorced'])"
   ]
  },
  {
   "cell_type": "code",
   "execution_count": null,
   "id": "66e2f04f",
   "metadata": {},
   "outputs": [],
   "source": [
    "# defining the table\n",
    "data = [[case[\"Marital Status\"].value_counts()['Single'], case[\"Marital Status\"].value_counts()['Married'], case[\"Marital Status\"].value_counts()['Separated'] + case[\"Marital Status\"].value_counts()['Divorced']], [control[\"Marital Status\"].value_counts()['Single'], control[\"Marital Status\"].value_counts()['Married'], control[\"Marital Status\"].value_counts()['Separated'] + control[\"Marital Status\"].value_counts()['Divorced']]]\n",
    "\n",
    "#            man          woman\n",
    "# Case     mancase      womancase\n",
    "#control   mancontrol   womancontrol\n",
    "\n",
    "stat, p, dof, expected = chi2_contingency(data)\n",
    " \n",
    "# interpret p-value\n",
    "alpha = 0.05\n",
    "print(\"p value is \" + str(p))\n",
    "if p <= alpha:\n",
    "    print('Dependent (reject H0)')\n",
    "else:\n",
    "    print('Independent (H0 holds true)')"
   ]
  },
  {
   "cell_type": "markdown",
   "id": "e0c96881",
   "metadata": {},
   "source": [
    "# ML ATTEMPTS"
   ]
  },
  {
   "cell_type": "code",
   "execution_count": 22,
   "id": "425890fd",
   "metadata": {},
   "outputs": [],
   "source": [
    "import numpy as np\n",
    "import csv\n",
    "from sklearn.utils import Bunch\n",
    "\n",
    "def load_my_fancy_dataset(file):\n",
    "    with open(r\"/home/nchendri/hold-the-line/i2b2/i2b2-export_patient-central-line-infection-500_20230911-044106.csv\") as csv_file:\n",
    "        data_reader = csv.reader(csv_file)\n",
    "        feature_names = next(data_reader)[:-1]\n",
    "        data = []\n",
    "        target = []\n",
    "        for row in data_reader:\n",
    "            features = row[:-1]\n",
    "            label = row[-1]\n",
    "            data.append([d for d in features])\n",
    "            target.append(label)\n",
    "        \n",
    "        data = np.array(data)\n",
    "        target = np.array(target)\n",
    "    return Bunch(data=data, target=target, feature_names=feature_names)"
   ]
  },
  {
   "cell_type": "code",
   "execution_count": 23,
   "id": "66304046",
   "metadata": {},
   "outputs": [],
   "source": [
    "ds = load_my_fancy_dataset(casefile)"
   ]
  },
  {
   "cell_type": "code",
   "execution_count": 24,
   "id": "fb614bbb",
   "metadata": {},
   "outputs": [
    {
     "data": {
      "text/plain": [
       "{'data': array([['1', '202928', 'MALE', '-1', 'White',\n",
       "         'ICD9:999.31 = OTHER AND UNSPECIFIED INFECTION DUE TO CENTRAL VENOUS CATHETER (DIAGNOSIS:FINAL)'],\n",
       "        ['2', '314213', 'FEMALE', '-1', 'Black or African American',\n",
       "         'ICD9:999.31 = OTHER AND UNSPECIFIED INFECTION DUE TO CENTRAL VENOUS CATHETER (DIAGNOSIS:FINAL)'],\n",
       "        ['3', '485745', 'MALE', '-1', 'White',\n",
       "         'ICD9:999.31 = OTHER AND UNSPECIFIED INFECTION DUE TO CENTRAL VENOUS CATHETER (DIAGNOSIS:FINAL), ICD9:999.31 = OTHER AND UNSPECIFIED INFECTION DUE TO CENTRAL VENOUS CATHETER (MSO BILLED CHARGES), ICD9:999.32 = BLOODSTREAM INFECTION DUE TO CENTRAL VENOUS CATHETER (DIAGNOSIS:FINAL)'],\n",
       "        ...,\n",
       "        ['498', '2346020', 'MALE', '30', 'White',\n",
       "         'ICD9:999.31 = OTHER AND UNSPECIFIED INFECTION DUE TO CENTRAL VENOUS CATHETER (DIAGNOSIS:FINAL), ICD9:999.32 = BLOODSTREAM INFECTION DUE TO CENTRAL VENOUS CATHETER (MSO BILLED CHARGES)'],\n",
       "        ['499', '2468128', 'MALE', '-1', 'White',\n",
       "         'ICD9:999.31 = OTHER AND UNSPECIFIED INFECTION DUE TO CENTRAL VENOUS CATHETER (DIAGNOSIS:FINAL)'],\n",
       "        ['500', '10743143', 'FEMALE', '40', 'White',\n",
       "         'ICD9:999.31 = OTHER AND UNSPECIFIED INFECTION DUE TO CENTRAL VENOUS CATHETER (DIAGNOSIS:FINAL), ICD9:999.32 = BLOODSTREAM INFECTION DUE TO CENTRAL VENOUS CATHETER (MSO BILLED CHARGES), ICD9:999.31 = OTHER AND UNSPECIFIED INFECTION DUE TO CENTRAL VENOUS CATHETER (MSO BILLED CHARGES), ICD9:999.32 = BLOODSTREAM INFECTION DUE TO CENTRAL VENOUS CATHETER (DIAGNOSIS:FINAL)']],\n",
       "       dtype='<U553'),\n",
       " 'target': array(['', '', '', '', '', '', '', '', '', '', '', '', '', '', '', '', '',\n",
       "        '', '', '', '', '', '', '', '', '', '', '', '', '', '', '', '', '',\n",
       "        '', '', '', '', '', '', '', '', '', '', '', '', '', '', '', '', '',\n",
       "        '', '', '', '', '', '', '', '', '', '', '', '', '', '', '', '', '',\n",
       "        '', '', '', '', '', '', '', '', '', '', '', '', '', '', '', '', '',\n",
       "        '', '', '', '', '', '', '', '', '', '', '', '', '', '', '', '', '',\n",
       "        '', '', '', '', '', '', '', '', '', '', '', '', '', '', '', '', '',\n",
       "        '', '', '', '', '', '', '', '', '', '', '', '', '', '', '', '', '',\n",
       "        '', '', '', '', '', '', '', '', '', '', '', '', '', '', '', '', '',\n",
       "        '', '', '', '', '', '', '', '', '', '', '', '', '', '', '', '', '',\n",
       "        '', '', '', '', '', '', '', '', '', '', '', '', '', '', '', '', '',\n",
       "        '', '', '', '', '', '', '', '', '', '', '', '', '', '', '', '', '',\n",
       "        '', '', '', '', '', '', '', '', '', '', '', '', '', '', '', '', '',\n",
       "        '', '', '', '', '', '', '', '', '', '', '', '', '', '', '', '', '',\n",
       "        '', '', '', '', '', '', '', '', '', '', '', '', '', '', '', '', '',\n",
       "        '', '', '', '', '', '', '', '', '', '', '', '', '', '', '', '', '',\n",
       "        '', '', '', '', '', '', '', '', '', '', '', '', '', '', '', '', '',\n",
       "        '', '', '', '', '', '', '', '', '', '', '', '', '', '', '', '', '',\n",
       "        '', '', '', '', '', '', '', '', '', '', '', '', '', '', '', '', '',\n",
       "        '', '', '', '', '', '', '', '', '', '', '', '', '', '', '', '', '',\n",
       "        '', '', '', '', '', '', '', '', '', '', '', '', '', '', '', '', '',\n",
       "        '', '', '', '', '', '', '', '', '', '', '', '', '', '', '', '', '',\n",
       "        '', '', '', '', '', '', '', '', '', '', '', '', '', '', '', '', '',\n",
       "        '', '', '', '', '', '', '', '', '', '', '', '', '', '', '', '', '',\n",
       "        '', '', '', '', '', '', '', '', '', '', '', '', '', '', '', '', '',\n",
       "        '', '', '', '', '', '', '', '', '', '', '', '', '', '', '', '', '',\n",
       "        '', '', '', '', '', '', '', '', '', '', '', '', '', '', '', '', '',\n",
       "        '', '', '', '', '', '', '', '', '', '', '', '', '', '', '', '', '',\n",
       "        '', '', '', '', '', '', '', '', '', '', '', '', '', '', '', '', '',\n",
       "        '', '', '', '', '', '', ''], dtype='<U1'),\n",
       " 'feature_names': [' ',\n",
       "  'Patient ID',\n",
       "  'Sex',\n",
       "  'Age in Years',\n",
       "  'Race',\n",
       "  'Infection due to central venous catheter (ICD10:T80.21)']}"
      ]
     },
     "execution_count": 24,
     "metadata": {},
     "output_type": "execute_result"
    }
   ],
   "source": [
    "ds"
   ]
  },
  {
   "cell_type": "code",
   "execution_count": 25,
   "id": "024d9e59",
   "metadata": {},
   "outputs": [
    {
     "ename": "NameError",
     "evalue": "name 'features' is not defined",
     "output_type": "error",
     "traceback": [
      "\u001b[0;31m---------------------------------------------------------------------------\u001b[0m",
      "\u001b[0;31mNameError\u001b[0m                                 Traceback (most recent call last)",
      "Input \u001b[0;32mIn [25]\u001b[0m, in \u001b[0;36m<cell line: 2>\u001b[0;34m()\u001b[0m\n\u001b[1;32m      1\u001b[0m \u001b[38;5;28;01mfrom\u001b[39;00m \u001b[38;5;21;01msklearn\u001b[39;00m\u001b[38;5;21;01m.\u001b[39;00m\u001b[38;5;21;01mmodel_selection\u001b[39;00m \u001b[38;5;28;01mimport\u001b[39;00m train_test_split\n\u001b[0;32m----> 2\u001b[0m train, test, train_labels, test_labels \u001b[38;5;241m=\u001b[39m train_test_split(\u001b[43mfeatures\u001b[49m,labels,test_size \u001b[38;5;241m=\u001b[39m \u001b[38;5;241m0.40\u001b[39m, random_state \u001b[38;5;241m=\u001b[39m \u001b[38;5;241m42\u001b[39m)\n\u001b[1;32m      3\u001b[0m \u001b[38;5;28;01mfrom\u001b[39;00m \u001b[38;5;21;01msklearn\u001b[39;00m\u001b[38;5;21;01m.\u001b[39;00m\u001b[38;5;21;01mnaive_bayes\u001b[39;00m \u001b[38;5;28;01mimport\u001b[39;00m GaussianNB\n\u001b[1;32m      4\u001b[0m gnb \u001b[38;5;241m=\u001b[39m GaussianNB()\n",
      "\u001b[0;31mNameError\u001b[0m: name 'features' is not defined"
     ]
    }
   ],
   "source": [
    "from sklearn.model_selection import train_test_split\n",
    "train, test, train_labels, test_labels = train_test_split(features,labels,test_size = 0.40, random_state = 42)\n",
    "from sklearn.naive_bayes import GaussianNB\n",
    "gnb = GaussianNB()\n",
    "model = gnb.fit(train, train_labels)\n",
    "preds = gnb.predict(test)\n",
    "print(preds)"
   ]
  },
  {
   "cell_type": "code",
   "execution_count": null,
   "id": "fdb0f4a5",
   "metadata": {},
   "outputs": [],
   "source": []
  }
 ],
 "metadata": {
  "anaconda-cloud": {},
  "kernelspec": {
   "display_name": "Python 3 (ipykernel)",
   "language": "python",
   "name": "python3"
  },
  "language_info": {
   "codemirror_mode": {
    "name": "ipython",
    "version": 3
   },
   "file_extension": ".py",
   "mimetype": "text/x-python",
   "name": "python",
   "nbconvert_exporter": "python",
   "pygments_lexer": "ipython3",
   "version": "3.9.12"
  },
  "toc": {
   "base_numbering": 1,
   "nav_menu": {},
   "number_sections": true,
   "sideBar": true,
   "skip_h1_title": false,
   "title_cell": "Table of Contents",
   "title_sidebar": "Contents",
   "toc_cell": false,
   "toc_position": {},
   "toc_section_display": true,
   "toc_window_display": false
  }
 },
 "nbformat": 4,
 "nbformat_minor": 5
}
