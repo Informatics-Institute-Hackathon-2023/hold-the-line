{
 "cells": [
  {
   "cell_type": "markdown",
   "id": "023a2cc3",
   "metadata": {},
   "source": [
    "# i2b2 export analysis (v2)\n"
   ]
  },
  {
   "cell_type": "code",
   "execution_count": 53,
   "id": "ce38916a",
   "metadata": {
    "ExecuteTime": {
     "end_time": "2023-09-11T05:29:08.441990Z",
     "start_time": "2023-09-11T05:29:08.440064Z"
    }
   },
   "outputs": [],
   "source": [
    "import pandas as pd\n",
    "import matplotlib.pyplot as plt"
   ]
  },
  {
   "cell_type": "markdown",
   "id": "d60b0094",
   "metadata": {},
   "source": [
    "# load data"
   ]
  },
  {
   "cell_type": "code",
   "execution_count": 63,
   "id": "6d81ce41",
   "metadata": {
    "ExecuteTime": {
     "end_time": "2023-09-11T05:33:24.646386Z",
     "start_time": "2023-09-11T05:33:24.632272Z"
    }
   },
   "outputs": [
    {
     "name": "stdout",
     "output_type": "stream",
     "text": [
      "case (500, 7) \n",
      "\t [' ', 'Patient ID', 'Sex', 'Age in Years', 'Race', 'Infection due to central venous catheter (ICD10:T80.21)', 'Unnamed: 6']\n",
      "control (675, 7) \n",
      "\t [' ', 'Patient ID', 'Sex', 'Age in Years', 'Race', '[36555 - 36598] Central Venous Access Procedures', 'Unnamed: 6']\n"
     ]
    },
    {
     "data": {
      "text/html": [
       "<div>\n",
       "<style scoped>\n",
       "    .dataframe tbody tr th:only-of-type {\n",
       "        vertical-align: middle;\n",
       "    }\n",
       "\n",
       "    .dataframe tbody tr th {\n",
       "        vertical-align: top;\n",
       "    }\n",
       "\n",
       "    .dataframe thead th {\n",
       "        text-align: right;\n",
       "    }\n",
       "</style>\n",
       "<table border=\"1\" class=\"dataframe\">\n",
       "  <thead>\n",
       "    <tr style=\"text-align: right;\">\n",
       "      <th></th>\n",
       "      <th></th>\n",
       "      <th>Patient ID</th>\n",
       "      <th>Sex</th>\n",
       "      <th>Age in Years</th>\n",
       "      <th>Race</th>\n",
       "      <th>Infection due to central venous catheter (ICD10:T80.21)</th>\n",
       "      <th>Unnamed: 6</th>\n",
       "    </tr>\n",
       "  </thead>\n",
       "  <tbody>\n",
       "    <tr>\n",
       "      <th>1</th>\n",
       "      <td>2</td>\n",
       "      <td>314213</td>\n",
       "      <td>FEMALE</td>\n",
       "      <td>-1</td>\n",
       "      <td>Black or African American</td>\n",
       "      <td>ICD9:999.31 = OTHER AND UNSPECIFIED INFECTION ...</td>\n",
       "      <td>NaN</td>\n",
       "    </tr>\n",
       "    <tr>\n",
       "      <th>2</th>\n",
       "      <td>3</td>\n",
       "      <td>485745</td>\n",
       "      <td>MALE</td>\n",
       "      <td>-1</td>\n",
       "      <td>White</td>\n",
       "      <td>ICD9:999.31 = OTHER AND UNSPECIFIED INFECTION ...</td>\n",
       "      <td>NaN</td>\n",
       "    </tr>\n",
       "    <tr>\n",
       "      <th>3</th>\n",
       "      <td>4</td>\n",
       "      <td>768783</td>\n",
       "      <td>MALE</td>\n",
       "      <td>-1</td>\n",
       "      <td>White</td>\n",
       "      <td>ICD9:999.32 = BLOODSTREAM INFECTION DUE TO CEN...</td>\n",
       "      <td>NaN</td>\n",
       "    </tr>\n",
       "    <tr>\n",
       "      <th>4</th>\n",
       "      <td>5</td>\n",
       "      <td>834924</td>\n",
       "      <td>FEMALE</td>\n",
       "      <td>58</td>\n",
       "      <td>White</td>\n",
       "      <td>ICD9:999.31 = OTHER AND UNSPECIFIED INFECTION ...</td>\n",
       "      <td>NaN</td>\n",
       "    </tr>\n",
       "    <tr>\n",
       "      <th>5</th>\n",
       "      <td>6</td>\n",
       "      <td>952102</td>\n",
       "      <td>FEMALE</td>\n",
       "      <td>71</td>\n",
       "      <td>Black or African American</td>\n",
       "      <td>ICD9:999.31 = OTHER AND UNSPECIFIED INFECTION ...</td>\n",
       "      <td>NaN</td>\n",
       "    </tr>\n",
       "    <tr>\n",
       "      <th>6</th>\n",
       "      <td>7</td>\n",
       "      <td>1063899</td>\n",
       "      <td>FEMALE</td>\n",
       "      <td>-1</td>\n",
       "      <td>White</td>\n",
       "      <td>ICD9:999.31 = OTHER AND UNSPECIFIED INFECTION ...</td>\n",
       "      <td>NaN</td>\n",
       "    </tr>\n",
       "    <tr>\n",
       "      <th>7</th>\n",
       "      <td>8</td>\n",
       "      <td>1321212</td>\n",
       "      <td>MALE</td>\n",
       "      <td>59</td>\n",
       "      <td>White</td>\n",
       "      <td>ICD9:999.31 = OTHER AND UNSPECIFIED INFECTION ...</td>\n",
       "      <td>NaN</td>\n",
       "    </tr>\n",
       "    <tr>\n",
       "      <th>8</th>\n",
       "      <td>9</td>\n",
       "      <td>1511102</td>\n",
       "      <td>MALE</td>\n",
       "      <td>-1</td>\n",
       "      <td>White</td>\n",
       "      <td>ICD9:999.31 = PICC LINE INFECTION (DIAGNOSIS:B...</td>\n",
       "      <td>NaN</td>\n",
       "    </tr>\n",
       "    <tr>\n",
       "      <th>9</th>\n",
       "      <td>10</td>\n",
       "      <td>1517611</td>\n",
       "      <td>FEMALE</td>\n",
       "      <td>-1</td>\n",
       "      <td>Black or African American</td>\n",
       "      <td>ICD9:999.31 = OTHER AND UNSPECIFIED INFECTION ...</td>\n",
       "      <td>NaN</td>\n",
       "    </tr>\n",
       "  </tbody>\n",
       "</table>\n",
       "</div>"
      ],
      "text/plain": [
       "       Patient ID     Sex  Age in Years                       Race  \\\n",
       "1   2      314213  FEMALE            -1  Black or African American   \n",
       "2   3      485745    MALE            -1                      White   \n",
       "3   4      768783    MALE            -1                      White   \n",
       "4   5      834924  FEMALE            58                      White   \n",
       "5   6      952102  FEMALE            71  Black or African American   \n",
       "6   7     1063899  FEMALE            -1                      White   \n",
       "7   8     1321212    MALE            59                      White   \n",
       "8   9     1511102    MALE            -1                      White   \n",
       "9  10     1517611  FEMALE            -1  Black or African American   \n",
       "\n",
       "  Infection due to central venous catheter (ICD10:T80.21)  Unnamed: 6  \n",
       "1  ICD9:999.31 = OTHER AND UNSPECIFIED INFECTION ...              NaN  \n",
       "2  ICD9:999.31 = OTHER AND UNSPECIFIED INFECTION ...              NaN  \n",
       "3  ICD9:999.32 = BLOODSTREAM INFECTION DUE TO CEN...              NaN  \n",
       "4  ICD9:999.31 = OTHER AND UNSPECIFIED INFECTION ...              NaN  \n",
       "5  ICD9:999.31 = OTHER AND UNSPECIFIED INFECTION ...              NaN  \n",
       "6  ICD9:999.31 = OTHER AND UNSPECIFIED INFECTION ...              NaN  \n",
       "7  ICD9:999.31 = OTHER AND UNSPECIFIED INFECTION ...              NaN  \n",
       "8  ICD9:999.31 = PICC LINE INFECTION (DIAGNOSIS:B...              NaN  \n",
       "9  ICD9:999.31 = OTHER AND UNSPECIFIED INFECTION ...              NaN  "
      ]
     },
     "execution_count": 63,
     "metadata": {},
     "output_type": "execute_result"
    }
   ],
   "source": [
    "# load data\n",
    "case = pd.read_csv(\n",
    "    \"exports/v2_full/i2b2-export_patient-central-line-infection-500_20230911-044106.csv\")\n",
    "control = pd.read_csv(\n",
    "    \"exports/v2_full/i2b2-export_patient-central-line-500_20230911-042706.csv\")\n",
    "\n",
    "print(\"case\", case.shape,\"\\n\\t\", case.columns.tolist())\n",
    "print(\"control\", control.shape, \"\\n\\t\",control.columns.tolist())\n",
    "\n",
    "case[1:10]"
   ]
  },
  {
   "cell_type": "markdown",
   "id": "3a117578",
   "metadata": {},
   "source": [
    "# visualize data"
   ]
  },
  {
   "cell_type": "markdown",
   "id": "39abbd8d",
   "metadata": {},
   "source": [
    "## RACE"
   ]
  },
  {
   "cell_type": "code",
   "execution_count": 64,
   "id": "df961cd8",
   "metadata": {
    "ExecuteTime": {
     "end_time": "2023-09-11T05:33:37.488424Z",
     "start_time": "2023-09-11T05:33:37.305645Z"
    }
   },
   "outputs": [
    {
     "data": {
      "image/png": "[encoded data removed]",
      "text/plain": [
       "<Figure size 576x432 with 1 Axes>"
      ]
     },
     "metadata": {
      "needs_background": "light"
     },
     "output_type": "display_data"
    },
    {
     "data": {
      "image/png": "[encoded data removed]",
      "text/plain": [
       "<Figure size 576x432 with 1 Axes>"
      ]
     },
     "metadata": {
      "needs_background": "light"
     },
     "output_type": "display_data"
    }
   ],
   "source": [
    "#\n",
    "# RACE\n",
    "#\n",
    "# histograms\n",
    "plt.figure(figsize=(8, 6))  # Optional: Set the figure size\n",
    "plt.hist(case[\"Race\"], color='skyblue', edgecolor='black')\n",
    "plt.xlabel(\"Race\")\n",
    "plt.ylabel('Frequency')\n",
    "plt.title(f'Histogram of Race (cases)')\n",
    "plt.grid(True)\n",
    "plt.show()\n",
    "\n",
    "# controls \n",
    "plt.figure(figsize=(8, 6))  # Optional: Set the figure size\n",
    "plt.hist(control[\"Race\"], color='skyblue', edgecolor='black')\n",
    "plt.xlabel(\"Race\")\n",
    "plt.ylabel('Frequency')\n",
    "plt.title(f'Histogram of Race (controls)')\n",
    "plt.grid(True)\n",
    "plt.show()"
   ]
  },
  {
   "cell_type": "markdown",
   "id": "1eb183f8",
   "metadata": {},
   "source": [
    "## SEX"
   ]
  },
  {
   "cell_type": "code",
   "execution_count": 65,
   "id": "1ff5f70d",
   "metadata": {
    "ExecuteTime": {
     "end_time": "2023-09-11T05:33:43.946851Z",
     "start_time": "2023-09-11T05:33:43.790287Z"
    }
   },
   "outputs": [
    {
     "data": {
      "image/png": "[encoded data removed]",
      "text/plain": [
       "<Figure size 576x432 with 1 Axes>"
      ]
     },
     "metadata": {
      "needs_background": "light"
     },
     "output_type": "display_data"
    },
    {
     "data": {
      "image/png": "[encoded data removed]",
      "text/plain": [
       "<Figure size 576x432 with 1 Axes>"
      ]
     },
     "metadata": {
      "needs_background": "light"
     },
     "output_type": "display_data"
    }
   ],
   "source": [
    "#\n",
    "# SEX\n",
    "#\n",
    "# histograms\n",
    "plt.figure(figsize=(8, 6))  # Optional: Set the figure size\n",
    "plt.hist(case[\"Sex\"], color='skyblue', edgecolor='black')\n",
    "plt.xlabel(\"Sex\")\n",
    "plt.ylabel('Frequency')\n",
    "plt.title(f'Histogram of Sex (cases: infections)')\n",
    "plt.grid(True)\n",
    "plt.show()\n",
    "\n",
    "# controls \n",
    "plt.figure(figsize=(8, 6))  # Optional: Set the figure size\n",
    "plt.hist(control[\"Sex\"], color='skyblue', edgecolor='black')\n",
    "plt.xlabel(\"Sex\")\n",
    "plt.ylabel('Frequency')\n",
    "plt.title(f'Histogram of Sex (controls: catheter)')\n",
    "plt.grid(True)\n",
    "plt.show()"
   ]
  },
  {
   "cell_type": "markdown",
   "id": "54c4fcbd",
   "metadata": {},
   "source": [
    "## Age"
   ]
  },
  {
   "cell_type": "code",
   "execution_count": 66,
   "id": "ec645f0c",
   "metadata": {
    "ExecuteTime": {
     "end_time": "2023-09-11T05:33:49.900095Z",
     "start_time": "2023-09-11T05:33:49.721877Z"
    }
   },
   "outputs": [
    {
     "data": {
      "image/png": "[encoded data removed]",
      "text/plain": [
       "<Figure size 576x432 with 1 Axes>"
      ]
     },
     "metadata": {
      "needs_background": "light"
     },
     "output_type": "display_data"
    },
    {
     "data": {
      "image/png": "[encoded data removed]",
      "text/plain": [
       "<Figure size 576x432 with 1 Axes>"
      ]
     },
     "metadata": {
      "needs_background": "light"
     },
     "output_type": "display_data"
    }
   ],
   "source": [
    "#\n",
    "# Age\n",
    "#\n",
    "\n",
    "# remove -1 (no data)\n",
    "caseWage = case[case[\"Age in Years\"] != -1]\n",
    "controlWage = control[control[\"Age in Years\"] != -1]\n",
    "                             \n",
    "# histograms\n",
    "plt.figure(figsize=(8, 6))  # Optional: Set the figure size\n",
    "plt.hist(caseWage[\"Age in Years\"], color='skyblue', edgecolor='black')\n",
    "plt.xlabel(\"Age\")\n",
    "plt.ylabel('Frequency')\n",
    "plt.title(f'Histogram of Age (cases: infections)')\n",
    "plt.grid(True)\n",
    "plt.show()\n",
    "\n",
    "# controls \n",
    "plt.figure(figsize=(8, 6))  # Optional: Set the figure size\n",
    "plt.hist(controlWage[\"Age in Years\"], color='skyblue', edgecolor='black')\n",
    "plt.xlabel(\"Age\")\n",
    "plt.ylabel('Frequency')\n",
    "plt.title(f'Histogram of Age (controls: catheter)')\n",
    "plt.grid(True)\n",
    "plt.show()"
   ]
  },
  {
   "cell_type": "code",
   "execution_count": 67,
   "id": "5a40e703",
   "metadata": {
    "ExecuteTime": {
     "end_time": "2023-09-11T05:34:01.159016Z",
     "start_time": "2023-09-11T05:34:01.079088Z"
    }
   },
   "outputs": [
    {
     "name": "stdout",
     "output_type": "stream",
     "text": [
      "cases\n",
      "controls\n"
     ]
    },
    {
     "data": {
      "image/png": "[encoded data removed]",
      "text/plain": [
       "<Figure size 720x504 with 1 Axes>"
      ]
     },
     "metadata": {
      "needs_background": "light"
     },
     "output_type": "display_data"
    }
   ],
   "source": [
    "import scipy.stats as stats\n",
    "print(\"cases\")\n",
    "caseWage[\"Age in Years\"].agg([\"count\", \"min\", \"max\", \"median\", \"mean\", \"skew\"])\n",
    "print(\"controls\")\n",
    "controlWage[\"Age in Years\"].agg([\"count\", \"min\", \"max\", \"median\", \"mean\", \"skew\"])\n",
    "\n",
    "boxDf = [caseWage[\"Age in Years\"], controlWage[\"Age in Years\"]]\n",
    "\n",
    "fig = plt.figure(figsize =(10, 7))\n",
    " \n",
    "# Creating axes instance\n",
    "ax = fig.add_axes([0, 0, 1, 1])\n",
    " \n",
    "# Creating plot\n",
    "bp = ax.boxplot(boxDf)\n",
    "\n",
    "ax.set_xticklabels(['case (infect)', 'control'])\n",
    "plt.show()"
   ]
  },
  {
   "cell_type": "markdown",
   "id": "705df270",
   "metadata": {},
   "source": [
    "## Mann-Whitney U test for stat diff in dist"
   ]
  },
  {
   "cell_type": "code",
   "execution_count": 68,
   "id": "807a5ae8",
   "metadata": {
    "ExecuteTime": {
     "end_time": "2023-09-11T05:34:04.936880Z",
     "start_time": "2023-09-11T05:34:04.932993Z"
    }
   },
   "outputs": [
    {
     "name": "stdout",
     "output_type": "stream",
     "text": [
      "MannwhitneyuResult(statistic=69414.0, pvalue=0.6818903792011757)\n",
      "Statistically the same\n"
     ]
    }
   ],
   "source": [
    "ageResult = stats.mannwhitneyu(list(caseWage['Age in Years']), list(controlWage['Age in Years']))\n",
    "print(ageResult)\n",
    "if ageResult.pvalue < 0.05: \n",
    "    print(\"Statistically DIFFERENT\")\n",
    "else: \n",
    "    print(\"Statistically the same\")\n"
   ]
  },
  {
   "cell_type": "markdown",
   "id": "04a07ee1",
   "metadata": {},
   "source": [
    "## Try logistical regression"
   ]
  },
  {
   "cell_type": "code",
   "execution_count": 69,
   "id": "7879c802",
   "metadata": {
    "ExecuteTime": {
     "end_time": "2023-09-11T05:34:32.745726Z",
     "start_time": "2023-09-11T05:34:32.743328Z"
    }
   },
   "outputs": [],
   "source": [
    "# load libraries\n",
    "import numpy as np\n",
    "from sklearn.model_selection import train_test_split\n",
    "from sklearn.linear_model import LogisticRegression\n",
    "from sklearn.metrics import accuracy_score, classification_report, confusion_matrix\n"
   ]
  },
  {
   "cell_type": "code",
   "execution_count": 70,
   "id": "c692e1e7",
   "metadata": {
    "ExecuteTime": {
     "end_time": "2023-09-11T05:34:36.945667Z",
     "start_time": "2023-09-11T05:34:36.940999Z"
    }
   },
   "outputs": [],
   "source": [
    "#\n",
    "# convert categorical to integer\n",
    "#\n",
    "caseY = caseWage.copy()\n",
    "caseY[\"infection\"] = 1\n",
    "controlY = controlWage.copy()\n",
    "controlY[\"infection\"] = 0\n",
    "caseControl =pd.concat([caseY, controlY])\n"
   ]
  },
  {
   "cell_type": "code",
   "execution_count": 71,
   "id": "3fcf8ebc",
   "metadata": {
    "ExecuteTime": {
     "end_time": "2023-09-11T05:34:49.379747Z",
     "start_time": "2023-09-11T05:34:49.372570Z"
    }
   },
   "outputs": [],
   "source": [
    "\n",
    "# Load your dataset into X (features) and y (target variable)\n",
    "# Example:\n",
    "# X = your_features (column names)\n",
    "# y = your_target_variable: infection or none\n",
    "\n",
    "# Split the dataset into training and testing sets\n",
    "columnsList = caseControl[['Sex','Age in Years','Race']]\n",
    "df = pd.get_dummies(caseControl, \n",
    "                             columns=[\"Sex\",\"Race\"], \n",
    "                             drop_first=True)\n",
    "\n",
    "\n"
   ]
  },
  {
   "cell_type": "code",
   "execution_count": 72,
   "id": "5ab7ef8a",
   "metadata": {
    "ExecuteTime": {
     "end_time": "2023-09-11T05:34:53.528119Z",
     "start_time": "2023-09-11T05:34:53.524365Z"
    }
   },
   "outputs": [
    {
     "data": {
      "text/plain": [
       "[' ',\n",
       " 'Patient ID',\n",
       " 'Sex',\n",
       " 'Age in Years',\n",
       " 'Race',\n",
       " 'Infection due to central venous catheter (ICD10:T80.21)',\n",
       " 'Unnamed: 6',\n",
       " 'infection',\n",
       " '[36555 - 36598] Central Venous Access Procedures']"
      ]
     },
     "execution_count": 72,
     "metadata": {},
     "output_type": "execute_result"
    }
   ],
   "source": [
    "caseControl.columns.tolist()"
   ]
  },
  {
   "cell_type": "code",
   "execution_count": 73,
   "id": "4f07d29e",
   "metadata": {
    "ExecuteTime": {
     "end_time": "2023-09-11T05:34:57.793657Z",
     "start_time": "2023-09-11T05:34:57.790686Z"
    }
   },
   "outputs": [
    {
     "data": {
      "text/plain": [
       "[' ',\n",
       " 'Patient ID',\n",
       " 'Age in Years',\n",
       " 'Infection due to central venous catheter (ICD10:T80.21)',\n",
       " 'Unnamed: 6',\n",
       " 'infection',\n",
       " '[36555 - 36598] Central Venous Access Procedures',\n",
       " 'Sex_MALE',\n",
       " 'Race_Asian',\n",
       " 'Race_Black or African American',\n",
       " 'Race_Decline/Refuse',\n",
       " 'Race_Hispanic or Latino',\n",
       " 'Race_Multiple',\n",
       " 'Race_Other',\n",
       " 'Race_Unknown',\n",
       " 'Race_White']"
      ]
     },
     "execution_count": 73,
     "metadata": {},
     "output_type": "execute_result"
    }
   ],
   "source": [
    "df.columns.tolist()"
   ]
  },
  {
   "cell_type": "code",
   "execution_count": 74,
   "id": "8d8a6065",
   "metadata": {
    "ExecuteTime": {
     "end_time": "2023-09-11T05:36:07.722327Z",
     "start_time": "2023-09-11T05:36:07.595535Z"
    }
   },
   "outputs": [
    {
     "name": "stdout",
     "output_type": "stream",
     "text": [
      "Accuracy: 0.6258064516129033\n",
      "Confusion Matrix:\n",
      " [[89  8]\n",
      " [50  8]]\n",
      "Classification Report:\n",
      "               precision    recall  f1-score   support\n",
      "\n",
      "           0       0.64      0.92      0.75        97\n",
      "           1       0.50      0.14      0.22        58\n",
      "\n",
      "    accuracy                           0.63       155\n",
      "   macro avg       0.57      0.53      0.49       155\n",
      "weighted avg       0.59      0.63      0.55       155\n",
      "\n"
     ]
    }
   ],
   "source": [
    "# Define your outcome variable (continuous) and predictor variables\n",
    "X = df[[\"Age in Years\",\n",
    "        'Sex_MALE',\n",
    "        'Race_Asian',\n",
    "        'Race_Black or African American',\n",
    "        'Race_Decline/Refuse',\n",
    "        'Race_Hispanic or Latino',\n",
    "        'Race_Multiple',\n",
    "        'Race_Other',\n",
    "        'Race_White']]\n",
    "y = df['infection']\n",
    "\n",
    "X_train, X_test, y_train, y_test = train_test_split(X, y, test_size=0.2, random_state=42)\n",
    "\n",
    "# Initialize the logistic regression model\n",
    "logistic_reg = LogisticRegression()\n",
    "\n",
    "# Fit the model to the training data\n",
    "logistic_reg.fit(X_train, y_train)\n",
    "\n",
    "# Make predictions on the test set\n",
    "y_pred = logistic_reg.predict(X_test)\n",
    "\n",
    "# Evaluate the model\n",
    "accuracy = accuracy_score(y_test, y_pred)\n",
    "confusion = confusion_matrix(y_test, y_pred)\n",
    "classification_rep = classification_report(y_test, y_pred)\n",
    "\n",
    "# Print the results\n",
    "print(\"Accuracy:\", accuracy)\n",
    "print(\"Confusion Matrix:\\n\", confusion)\n",
    "print(\"Classification Report:\\n\", classification_rep)\n"
   ]
  }
 ],
 "metadata": {
  "anaconda-cloud": {},
  "kernelspec": {
   "display_name": "Python 3 (ipykernel)",
   "language": "python",
   "name": "python3"
  },
  "language_info": {
   "codemirror_mode": {
    "name": "ipython",
    "version": 3
   },
   "file_extension": ".py",
   "mimetype": "text/x-python",
   "name": "python",
   "nbconvert_exporter": "python",
   "pygments_lexer": "ipython3",
   "version": "3.9.12"
  },
  "toc": {
   "base_numbering": 1,
   "nav_menu": {},
   "number_sections": true,
   "sideBar": true,
   "skip_h1_title": false,
   "title_cell": "Table of Contents",
   "title_sidebar": "Contents",
   "toc_cell": false,
   "toc_position": {},
   "toc_section_display": true,
   "toc_window_display": false
  }
 },
 "nbformat": 4,
 "nbformat_minor": 5
}
