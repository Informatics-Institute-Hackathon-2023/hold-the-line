{
 "cells": [
  {
   "cell_type": "markdown",
   "id": "bc46df57",
   "metadata": {},
   "source": [
    "# i2b2 export analysis (v3)\n",
    "Use a Baysiean classifier to try and predict venous catheter infection from patient demographics.\n",
    "\n",
    "\n",
    "Using the tutorial https://www.tutorialspoint.com/artificial_intelligence_with_python/artificial_intelligence_with_python_supervised_learning_classification.htm\n",
    "\n",
    "Because controls (N=99,791) and cases (N=708) are only 0.7% of cohort, we balance by subsetting controls to N=35k so that cases are approximately 2% of the cohort. "
   ]
  },
  {
   "cell_type": "code",
   "execution_count": 1,
   "id": "ba59d43d",
   "metadata": {
    "ExecuteTime": {
     "end_time": "2023-09-15T15:33:37.168416Z",
     "start_time": "2023-09-15T15:33:30.624687Z"
    }
   },
   "outputs": [],
   "source": [
    "import pandas as pd\n",
    "import matplotlib.pyplot as plt\n",
    "import numpy as np"
   ]
  },
  {
   "cell_type": "markdown",
   "id": "cdedd574",
   "metadata": {},
   "source": [
    "# load data"
   ]
  },
  {
   "cell_type": "code",
   "execution_count": 2,
   "id": "980edbd6",
   "metadata": {
    "ExecuteTime": {
     "end_time": "2023-09-15T15:33:37.478256Z",
     "start_time": "2023-09-15T15:33:37.169802Z"
    }
   },
   "outputs": [
    {
     "name": "stdout",
     "output_type": "stream",
     "text": [
      "cases: (708, 19)\n",
      "controls: (99791, 19)\n",
      "% cases: 0.007044846217375297\n"
     ]
    }
   ],
   "source": [
    "#declare files\n",
    "#casefile = \"/home/nchendri/hold-the-line/i2b2/i2b2-export_patient-central-line-infection-500_20230911-044106.csv\"\n",
    "#controlfile = \"/home/nchendri/hold-the-line/i2b2/i2b2-export_patient-central-line-500_20230911-042706.csv\"\n",
    "controlfile = \"/scratch/curtish/hack/i2b2/exports/v3/control/CTRLHENDRX_patient_demographics_RDALEJ_NO_PHI_65679_1.csv\"\n",
    "casefile = \"/scratch/curtish/hack/i2b2/exports/v3/case/casehendx_patient_demographics_RDALEJ_NO_PHI_65669_1.csv\"\n",
    "# load data\n",
    "cases = pd.read_csv(casefile)\n",
    "print(\"cases:\",cases.shape)\n",
    "controls = pd.read_csv(controlfile)\n",
    "print(\"controls:\",controls.shape)\n",
    "print(\"% cases:\", cases.shape[0]/(controls.shape[0]+cases.shape[0]))"
   ]
  },
  {
   "cell_type": "markdown",
   "id": "9a27bb24",
   "metadata": {},
   "source": [
    "# visualize data"
   ]
  },
  {
   "cell_type": "code",
   "execution_count": 3,
   "id": "1ada48b9",
   "metadata": {
    "ExecuteTime": {
     "end_time": "2023-09-15T15:33:37.724615Z",
     "start_time": "2023-09-15T15:33:37.479467Z"
    },
    "scrolled": false
   },
   "outputs": [
    {
     "data": {
      "image/png": "[encoded data removed]",
      "text/plain": [
       "<Figure size 576x432 with 1 Axes>"
      ]
     },
     "metadata": {
      "needs_background": "light"
     },
     "output_type": "display_data"
    }
   ],
   "source": [
    "# histograms\n",
    "plt.figure(figsize=(8, 6))  # Optional: Set the figure size\n",
    "plt.hist(cases[\"RACE\"], color='skyblue', edgecolor='black')\n",
    "plt.xlabel(\"Race\")\n",
    "plt.ylabel('Frequency')\n",
    "plt.title(f'Histogram of Race (cases)')\n",
    "plt.grid(True)\n",
    "plt.show()\n",
    "\n",
    "# controls  - broken : NAN\n",
    "#plt.figure(figsize=(8, 6))  # Optional: Set the figure size\n",
    "#plt.hist(control[\"RACE\"], color='skyblue', edgecolor='black')\n",
    "#plt.xlabel(\"Race\")\n",
    "#plt.ylabel('Frequency')\n",
    "#plt.title(f'Histogram of Race (controls)')\n",
    "#plt.grid(True)\n",
    "#plt.show()"
   ]
  },
  {
   "cell_type": "markdown",
   "id": "60d66083",
   "metadata": {},
   "source": [
    "# Code data for analysis "
   ]
  },
  {
   "cell_type": "code",
   "execution_count": 4,
   "id": "a233e816",
   "metadata": {
    "ExecuteTime": {
     "end_time": "2023-09-15T15:33:37.738773Z",
     "start_time": "2023-09-15T15:33:37.725988Z"
    }
   },
   "outputs": [],
   "source": [
    "whitecase = cases[\"RACE\"].value_counts()['White']\n",
    "blackcase = cases[\"RACE\"].value_counts()['Black or African American']\n",
    "whitecontrol = controls[\"RACE\"].value_counts()['White']\n",
    "blackcontrol = controls[\"RACE\"].value_counts()['Black or African American']"
   ]
  },
  {
   "cell_type": "code",
   "execution_count": 5,
   "id": "1429fcb8",
   "metadata": {
    "ExecuteTime": {
     "end_time": "2023-09-15T15:33:41.685271Z",
     "start_time": "2023-09-15T15:33:37.739680Z"
    }
   },
   "outputs": [
    {
     "name": "stdout",
     "output_type": "stream",
     "text": [
      "p value is 0.007715333093625749\n",
      "Dependent (reject H0)\n"
     ]
    }
   ],
   "source": [
    "from scipy.stats import chi2_contingency\n",
    " \n",
    "# defining the table\n",
    "data = [[whitecase, blackcase], [whitecontrol, blackcontrol]]\n",
    "\n",
    "#            white        black\n",
    "# Case     casewhite    caseblack\n",
    "#control   whitecontrol blackcontrol\n",
    "\n",
    "stat, p, dof, expected = chi2_contingency(data)\n",
    " \n",
    "# interpret p-value\n",
    "alpha = 0.05\n",
    "print(\"p value is \" + str(p))\n",
    "if p <= alpha:\n",
    "    print('Dependent (reject H0)')\n",
    "else:\n",
    "    print('Independent (H0 holds true)')"
   ]
  },
  {
   "cell_type": "code",
   "execution_count": 6,
   "id": "53fb9634",
   "metadata": {
    "ExecuteTime": {
     "end_time": "2023-09-15T15:33:41.696361Z",
     "start_time": "2023-09-15T15:33:41.686427Z"
    }
   },
   "outputs": [],
   "source": [
    "mancase = cases[\"GENDER\"].value_counts()['M']\n",
    "womancase = cases[\"GENDER\"].value_counts()['F']\n",
    "mancontrol = controls[\"GENDER\"].value_counts()['M']\n",
    "womancontrol = controls[\"GENDER\"].value_counts()['F']"
   ]
  },
  {
   "cell_type": "code",
   "execution_count": 7,
   "id": "ee384a76",
   "metadata": {
    "ExecuteTime": {
     "end_time": "2023-09-15T15:33:41.701233Z",
     "start_time": "2023-09-15T15:33:41.697398Z"
    }
   },
   "outputs": [
    {
     "name": "stdout",
     "output_type": "stream",
     "text": [
      "p value is 0.4759635602224913\n",
      "Independent (H0 holds true)\n"
     ]
    }
   ],
   "source": [
    "# defining the table\n",
    "data = [[mancase, womancase], [mancontrol, womancontrol]]\n",
    "\n",
    "#            man          woman\n",
    "# Case     mancase      womancase\n",
    "#control   mancontrol   womancontrol\n",
    "\n",
    "stat, p, dof, expected = chi2_contingency(data)\n",
    " \n",
    "# interpret p-value\n",
    "alpha = 0.05\n",
    "print(\"p value is \" + str(p))\n",
    "if p <= alpha:\n",
    "    print('Dependent (reject H0)')\n",
    "else:\n",
    "    print('Independent (H0 holds true)')"
   ]
  },
  {
   "cell_type": "code",
   "execution_count": 8,
   "id": "39be75dd",
   "metadata": {
    "ExecuteTime": {
     "end_time": "2023-09-15T15:33:41.743659Z",
     "start_time": "2023-09-15T15:33:41.702154Z"
    }
   },
   "outputs": [
    {
     "data": {
      "text/html": [
       "<div>\n",
       "<style scoped>\n",
       "    .dataframe tbody tr th:only-of-type {\n",
       "        vertical-align: middle;\n",
       "    }\n",
       "\n",
       "    .dataframe tbody tr th {\n",
       "        vertical-align: top;\n",
       "    }\n",
       "\n",
       "    .dataframe thead th {\n",
       "        text-align: right;\n",
       "    }\n",
       "</style>\n",
       "<table border=\"1\" class=\"dataframe\">\n",
       "  <thead>\n",
       "    <tr style=\"text-align: right;\">\n",
       "      <th></th>\n",
       "      <th>MASTER_REQUEST_ID</th>\n",
       "      <th>QUERY_NAME</th>\n",
       "      <th>DE_ID</th>\n",
       "      <th>BIRTH_DATE</th>\n",
       "      <th>GENDER</th>\n",
       "      <th>STATE</th>\n",
       "      <th>ZIP</th>\n",
       "      <th>COUNTRY</th>\n",
       "      <th>CITY</th>\n",
       "      <th>COUNTY</th>\n",
       "      <th>MARITAL_STATUS</th>\n",
       "      <th>RACE</th>\n",
       "      <th>ETHNIC_GROUP</th>\n",
       "      <th>LANGUAGE</th>\n",
       "      <th>RELIGION</th>\n",
       "      <th>LIVING_WILL</th>\n",
       "      <th>DECEASED</th>\n",
       "      <th>DECEASED_DATE</th>\n",
       "      <th>CURRENT_AGE</th>\n",
       "    </tr>\n",
       "  </thead>\n",
       "  <tbody>\n",
       "    <tr>\n",
       "      <th>1</th>\n",
       "      <td>65669</td>\n",
       "      <td>Standard Data Request 65669 on 09/11/2023 14:2...</td>\n",
       "      <td>3929980373</td>\n",
       "      <td>09/10/1953 12:00:00 AM</td>\n",
       "      <td>M</td>\n",
       "      <td>AL</td>\n",
       "      <td>36027</td>\n",
       "      <td>US</td>\n",
       "      <td>EUFAULA</td>\n",
       "      <td>Barbour</td>\n",
       "      <td>Married</td>\n",
       "      <td>Black or African American</td>\n",
       "      <td>Non-Hispanic/Latino</td>\n",
       "      <td>English</td>\n",
       "      <td>Baptist</td>\n",
       "      <td>Unknown</td>\n",
       "      <td>NaN</td>\n",
       "      <td>NaN</td>\n",
       "      <td>70.0</td>\n",
       "    </tr>\n",
       "    <tr>\n",
       "      <th>2</th>\n",
       "      <td>65669</td>\n",
       "      <td>Standard Data Request 65669 on 09/11/2023 14:2...</td>\n",
       "      <td>3928658953</td>\n",
       "      <td>11/01/1991 12:00:00 AM</td>\n",
       "      <td>F</td>\n",
       "      <td>AL</td>\n",
       "      <td>35214</td>\n",
       "      <td>US</td>\n",
       "      <td>BIRMINGHAM</td>\n",
       "      <td>Jefferson</td>\n",
       "      <td>Single</td>\n",
       "      <td>Black or African American</td>\n",
       "      <td>Non-Hispanic/Latino</td>\n",
       "      <td>English</td>\n",
       "      <td>None</td>\n",
       "      <td>Unknown</td>\n",
       "      <td>NaN</td>\n",
       "      <td>NaN</td>\n",
       "      <td>31.0</td>\n",
       "    </tr>\n",
       "    <tr>\n",
       "      <th>3</th>\n",
       "      <td>65669</td>\n",
       "      <td>Standard Data Request 65669 on 09/11/2023 14:2...</td>\n",
       "      <td>3923618228</td>\n",
       "      <td>12/20/1949 12:00:00 AM</td>\n",
       "      <td>M</td>\n",
       "      <td>AL</td>\n",
       "      <td>35226</td>\n",
       "      <td>US</td>\n",
       "      <td>BIRMINGHAM</td>\n",
       "      <td>Jefferson</td>\n",
       "      <td>Married</td>\n",
       "      <td>White</td>\n",
       "      <td>Non-Hispanic/Latino</td>\n",
       "      <td>English</td>\n",
       "      <td>Catholic</td>\n",
       "      <td>Power of Attorney</td>\n",
       "      <td>NaN</td>\n",
       "      <td>NaN</td>\n",
       "      <td>73.0</td>\n",
       "    </tr>\n",
       "    <tr>\n",
       "      <th>4</th>\n",
       "      <td>65669</td>\n",
       "      <td>Standard Data Request 65669 on 09/11/2023 14:2...</td>\n",
       "      <td>3928772116</td>\n",
       "      <td>09/08/1961 12:00:00 AM</td>\n",
       "      <td>F</td>\n",
       "      <td>AL</td>\n",
       "      <td>36732</td>\n",
       "      <td>US</td>\n",
       "      <td>DEMOPOLIS</td>\n",
       "      <td>Marengo</td>\n",
       "      <td>Married</td>\n",
       "      <td>White</td>\n",
       "      <td>Non-Hispanic/Latino</td>\n",
       "      <td>English</td>\n",
       "      <td>Methodist</td>\n",
       "      <td>Both</td>\n",
       "      <td>Y</td>\n",
       "      <td>12/12/2014 12:00:00 AM</td>\n",
       "      <td>NaN</td>\n",
       "    </tr>\n",
       "  </tbody>\n",
       "</table>\n",
       "</div>"
      ],
      "text/plain": [
       "   MASTER_REQUEST_ID                                         QUERY_NAME  \\\n",
       "1              65669  Standard Data Request 65669 on 09/11/2023 14:2...   \n",
       "2              65669  Standard Data Request 65669 on 09/11/2023 14:2...   \n",
       "3              65669  Standard Data Request 65669 on 09/11/2023 14:2...   \n",
       "4              65669  Standard Data Request 65669 on 09/11/2023 14:2...   \n",
       "\n",
       "        DE_ID              BIRTH_DATE GENDER STATE    ZIP COUNTRY        CITY  \\\n",
       "1  3929980373  09/10/1953 12:00:00 AM      M    AL  36027      US     EUFAULA   \n",
       "2  3928658953  11/01/1991 12:00:00 AM      F    AL  35214      US  BIRMINGHAM   \n",
       "3  3923618228  12/20/1949 12:00:00 AM      M    AL  35226      US  BIRMINGHAM   \n",
       "4  3928772116  09/08/1961 12:00:00 AM      F    AL  36732      US   DEMOPOLIS   \n",
       "\n",
       "      COUNTY MARITAL_STATUS                       RACE         ETHNIC_GROUP  \\\n",
       "1    Barbour        Married  Black or African American  Non-Hispanic/Latino   \n",
       "2  Jefferson         Single  Black or African American  Non-Hispanic/Latino   \n",
       "3  Jefferson        Married                      White  Non-Hispanic/Latino   \n",
       "4    Marengo        Married                      White  Non-Hispanic/Latino   \n",
       "\n",
       "  LANGUAGE   RELIGION        LIVING_WILL DECEASED           DECEASED_DATE  \\\n",
       "1  English    Baptist            Unknown      NaN                     NaN   \n",
       "2  English       None            Unknown      NaN                     NaN   \n",
       "3  English   Catholic  Power of Attorney      NaN                     NaN   \n",
       "4  English  Methodist               Both        Y  12/12/2014 12:00:00 AM   \n",
       "\n",
       "   CURRENT_AGE  \n",
       "1         70.0  \n",
       "2         31.0  \n",
       "3         73.0  \n",
       "4          NaN  "
      ]
     },
     "execution_count": 8,
     "metadata": {},
     "output_type": "execute_result"
    }
   ],
   "source": [
    "cases[1:5]"
   ]
  },
  {
   "cell_type": "code",
   "execution_count": 9,
   "id": "54a202bd",
   "metadata": {
    "ExecuteTime": {
     "end_time": "2023-09-15T15:33:41.749320Z",
     "start_time": "2023-09-15T15:33:41.744668Z"
    }
   },
   "outputs": [
    {
     "name": "stdout",
     "output_type": "stream",
     "text": [
      "240   330   13   77   8\n"
     ]
    }
   ],
   "source": [
    "print(\n",
    "    cases[\"MARITAL_STATUS\"].value_counts()['Single'], ' ',\n",
    "    cases[\"MARITAL_STATUS\"].value_counts()['Married'], ' ',\n",
    "    cases[\"MARITAL_STATUS\"].value_counts()['Separated'], ' ', \n",
    "    cases[\"MARITAL_STATUS\"].value_counts()['Divorced'], ' ', \n",
    "    cases[\"MARITAL_STATUS\"].value_counts()['Unknown'])"
   ]
  },
  {
   "cell_type": "code",
   "execution_count": 10,
   "id": "44ed9f6a",
   "metadata": {
    "ExecuteTime": {
     "end_time": "2023-09-15T15:33:41.775804Z",
     "start_time": "2023-09-15T15:33:41.751181Z"
    }
   },
   "outputs": [
    {
     "name": "stdout",
     "output_type": "stream",
     "text": [
      "31601   44470   1565   9672\n"
     ]
    }
   ],
   "source": [
    "print(controls[\"MARITAL_STATUS\"].value_counts()['Single'], ' ',\n",
    "      controls[\"MARITAL_STATUS\"].value_counts()['Married'], ' ',\n",
    "      controls[\"MARITAL_STATUS\"].value_counts()['Separated'], ' ', \n",
    "      controls[\"MARITAL_STATUS\"].value_counts()['Divorced'])"
   ]
  },
  {
   "cell_type": "code",
   "execution_count": 11,
   "id": "66e2f04f",
   "metadata": {
    "ExecuteTime": {
     "end_time": "2023-09-15T15:33:41.802136Z",
     "start_time": "2023-09-15T15:33:41.776735Z"
    }
   },
   "outputs": [
    {
     "name": "stdout",
     "output_type": "stream",
     "text": [
      "p value is 0.8122555749499025\n",
      "Independent (H0 holds true)\n"
     ]
    }
   ],
   "source": [
    "# defining the table\n",
    "data = [[cases[\"MARITAL_STATUS\"].value_counts()['Single'], \n",
    "         cases[\"MARITAL_STATUS\"].value_counts()['Married'],\n",
    "         cases[\"MARITAL_STATUS\"].value_counts()['Separated'] + cases[\"MARITAL_STATUS\"].value_counts()['Divorced']\n",
    "        ],\n",
    "        [controls[\"MARITAL_STATUS\"].value_counts()['Single'], \n",
    "         controls[\"MARITAL_STATUS\"].value_counts()['Married'], \n",
    "         controls[\"MARITAL_STATUS\"].value_counts()['Separated'] + controls[\"MARITAL_STATUS\"].value_counts()['Divorced']\n",
    "        ]\n",
    "       ]\n",
    "\n",
    "\n",
    "#            man          woman\n",
    "# Case     mancase      womancase\n",
    "#control   mancontrol   womancontrol\n",
    "\n",
    "stat, p, dof, expected = chi2_contingency(data)\n",
    " \n",
    "# interpret p-value\n",
    "alpha = 0.05\n",
    "print(\"p value is \" + str(p))\n",
    "if p <= alpha:\n",
    "    print('Dependent (reject H0)')\n",
    "else:\n",
    "    print('Independent (H0 holds true)')"
   ]
  },
  {
   "cell_type": "markdown",
   "id": "e0c96881",
   "metadata": {},
   "source": [
    "# ML ATTEMPTS"
   ]
  },
  {
   "cell_type": "code",
   "execution_count": 12,
   "id": "2362ae6f",
   "metadata": {
    "ExecuteTime": {
     "end_time": "2023-09-15T15:33:41.825939Z",
     "start_time": "2023-09-15T15:33:41.803146Z"
    },
    "scrolled": true
   },
   "outputs": [
    {
     "name": "stdout",
     "output_type": "stream",
     "text": [
      "caseSick (708, 20)\n",
      "controlSick (69999, 20)\n",
      "caseControlSick (70707, 20)\n"
     ]
    }
   ],
   "source": [
    "\n",
    "# merge and subset controls to 7k\n",
    "#\n",
    "# Add TARGET column\n",
    "# \n",
    "caseSick = cases.copy()\n",
    "caseSick[\"SICK\"] = 1\n",
    "print(\"caseSick\",caseSick.shape)\n",
    "controlSick = controls[1:70000].copy()\n",
    "controlSick[\"SICK\"] = 0\n",
    "print(\"controlSick\", controlSick.shape)\n",
    "caseControlSick =pd.concat([caseSick, controlSick])\n",
    "\n",
    "print(\"caseControlSick\",caseControlSick.shape)"
   ]
  },
  {
   "cell_type": "markdown",
   "id": "2ce51a47",
   "metadata": {
    "ExecuteTime": {
     "end_time": "2023-09-15T14:14:19.787067Z",
     "start_time": "2023-09-15T14:14:19.783457Z"
    }
   },
   "source": [
    "## Clean data  - remove NaNs"
   ]
  },
  {
   "cell_type": "code",
   "execution_count": 13,
   "id": "82324547",
   "metadata": {
    "ExecuteTime": {
     "end_time": "2023-09-15T15:33:41.976503Z",
     "start_time": "2023-09-15T15:33:41.827039Z"
    }
   },
   "outputs": [
    {
     "name": "stdout",
     "output_type": "stream",
     "text": [
      "GoodRows: 70665\n",
      "removed  42\n",
      "caseControlSickOk (70665, 20)\n",
      "NaN scan:\n",
      "\t MASTER_REQUEST_ID : 0\n",
      "\t QUERY_NAME : 0\n",
      "\t DE_ID : 0\n",
      "\t BIRTH_DATE : 1\n",
      "\t GENDER : 0\n",
      "\t STATE : 0\n",
      "\t ZIP : 0\n",
      "\t COUNTRY : 0\n",
      "\t CITY : 2\n",
      "\t COUNTY : 666\n",
      "\t MARITAL_STATUS : 0\n",
      "\t RACE : 0\n",
      "\t ETHNIC_GROUP : 2393\n",
      "\t LANGUAGE : 1\n",
      "\t RELIGION : 13\n",
      "\t LIVING_WILL : 901\n",
      "\t DECEASED : 51817\n",
      "\t DECEASED_DATE : 51901\n",
      "\t CURRENT_AGE : 18764\n",
      "\t SICK : 0\n"
     ]
    }
   ],
   "source": [
    "#\n",
    "# remove NANs\n",
    "#\n",
    "goodRows = np.logical_not(\n",
    "    # bad rows\n",
    "    np.logical_or(\n",
    "        np.logical_or(\n",
    "            caseControlSick[\"MARITAL_STATUS\"].isna(),\n",
    "            caseControlSick[\"GENDER\"].isna()\n",
    "        ),\n",
    "        np.logical_or(\n",
    "            caseControlSick[\"RACE\"].isna(),\n",
    "            caseControlSick[\"ZIP\"].isna()\n",
    "        )\n",
    "    )\n",
    ")\n",
    "print(\"GoodRows:\",sum(goodRows))\n",
    " # clean\n",
    "caseControlSickOk=caseControlSick.loc[goodRows]\n",
    "print(\"removed \",caseControlSick.shape[0]-caseControlSickOk.shape[0])\n",
    "print(\"caseControlSickOk\", caseControlSickOk.shape)\n",
    "#\n",
    "# double check\n",
    "# \n",
    "print(\"NaN scan:\")\n",
    "for f in caseControlSickOk.columns:\n",
    "    print(\"\\t\",f,\":\",sum(caseControlSickOk[f].isna()))"
   ]
  },
  {
   "cell_type": "markdown",
   "id": "105ecbbc",
   "metadata": {},
   "source": [
    "## convert to categorical data\n"
   ]
  },
  {
   "cell_type": "code",
   "execution_count": 14,
   "id": "de38088d",
   "metadata": {
    "ExecuteTime": {
     "end_time": "2023-09-15T15:33:43.304128Z",
     "start_time": "2023-09-15T15:33:41.977701Z"
    }
   },
   "outputs": [
    {
     "name": "stdout",
     "output_type": "stream",
     "text": [
      "caseControlSickOk (70665, 22)\n",
      "size 70665\n",
      "sum 65959\n",
      "sums race 44269 21690 65959 65959\n",
      "sums gender 37462 33202 70664 70664\n",
      "caseControlSickOKCoded (65959, 22)\n"
     ]
    },
    {
     "name": "stderr",
     "output_type": "stream",
     "text": [
      "/scratch/local/ipykernel_89452/2370364576.py:6: SettingWithCopyWarning: \n",
      "A value is trying to be set on a copy of a slice from a DataFrame.\n",
      "Try using .loc[row_indexer,col_indexer] = value instead\n",
      "\n",
      "See the caveats in the documentation: https://pandas.pydata.org/pandas-docs/stable/user_guide/indexing.html#returning-a-view-versus-a-copy\n",
      "  caseControlSickOk.loc[blackRows,\"RACE_FEATURE\"]=1\n",
      "/scratch/local/ipykernel_89452/2370364576.py:11: SettingWithCopyWarning: \n",
      "A value is trying to be set on a copy of a slice from a DataFrame.\n",
      "Try using .loc[row_indexer,col_indexer] = value instead\n",
      "\n",
      "See the caveats in the documentation: https://pandas.pydata.org/pandas-docs/stable/user_guide/indexing.html#returning-a-view-versus-a-copy\n",
      "  caseControlSickOk.loc[maleRows,\"GENDER_FEATURE\"]=0\n"
     ]
    }
   ],
   "source": [
    "\n",
    "# convert categorical to numeric\n",
    "#\n",
    "\n",
    "# code race\n",
    "blackRows = caseControlSickOk[\"RACE\"]==\"Black or African American\"\n",
    "caseControlSickOk.loc[blackRows,\"RACE_FEATURE\"]=1\n",
    "whiteRows = caseControlSickOk[\"RACE\"]==\"White\"\n",
    "caseControlSickOk.loc[whiteRows,\"RACE_FEATURE\"]=0\n",
    "# code gender\n",
    "maleRows = caseControlSickOk[\"GENDER\"]==\"M\"\n",
    "caseControlSickOk.loc[maleRows,\"GENDER_FEATURE\"]=0\n",
    "femaleRows = caseControlSickOk[\"GENDER\"]==\"F\"\n",
    "caseControlSickOk.loc[femaleRows,\"GENDER_FEATURE\"]=1\n",
    "\n",
    "# remove other races and genders\n",
    "codedRows=np.logical_and(np.logical_or(blackRows,whiteRows),np.logical_or(maleRows,femaleRows))\n",
    "print(\"caseControlSickOk\", caseControlSickOk.shape)\n",
    "print(\"size\",codedRows.size)\n",
    "print(\"sum\",sum(codedRows))\n",
    "print(\"sums race\",sum(whiteRows), sum(blackRows), sum(whiteRows)+sum(blackRows), \n",
    "     sum(np.logical_or(whiteRows,blackRows)))\n",
    "print(\"sums gender\",sum(maleRows), sum(femaleRows), sum(maleRows)+sum(femaleRows), \n",
    "     sum(np.logical_or(maleRows,femaleRows)))\n",
    "\n",
    "caseControlSickOKCoded=caseControlSickOk.loc[codedRows]\n",
    "print(\"caseControlSickOKCoded\",caseControlSickOKCoded.shape)\n"
   ]
  },
  {
   "cell_type": "code",
   "execution_count": 15,
   "id": "f4d616bc",
   "metadata": {
    "ExecuteTime": {
     "end_time": "2023-09-15T15:33:43.327658Z",
     "start_time": "2023-09-15T15:33:43.305260Z"
    }
   },
   "outputs": [
    {
     "name": "stdout",
     "output_type": "stream",
     "text": [
      "x.names: ['RACE_FEATURE', 'GENDER_FEATURE', 'ZIP', 'MARITAL_STATUS_Life Partner', 'MARITAL_STATUS_Married', 'MARITAL_STATUS_Separated', 'MARITAL_STATUS_Single', 'MARITAL_STATUS_Unknown', 'MARITAL_STATUS_Widowed', 'SICK']\n"
     ]
    }
   ],
   "source": [
    "#\n",
    "# convert MARITAL_STATUS to mulitple (boolean) features\n",
    "#\n",
    "x =pd.get_dummies(caseControlSickOKCoded, \n",
    "                             columns=[\"MARITAL_STATUS\"], \n",
    "                             drop_first=True)\n",
    "\n",
    "# remove columns we don't want\n",
    "\n",
    "\n",
    "x = x[[\"RACE_FEATURE\",\"GENDER_FEATURE\",\"ZIP\", 'MARITAL_STATUS_Life Partner', 'MARITAL_STATUS_Married', 'MARITAL_STATUS_Separated', 'MARITAL_STATUS_Single', 'MARITAL_STATUS_Unknown', 'MARITAL_STATUS_Widowed',\n",
    "                 \"SICK\"]]\n",
    "\n",
    "\n",
    "print(\"x.names:\",x.columns.tolist())"
   ]
  },
  {
   "cell_type": "code",
   "execution_count": 16,
   "id": "b4b84099",
   "metadata": {
    "ExecuteTime": {
     "end_time": "2023-09-15T15:33:43.331448Z",
     "start_time": "2023-09-15T15:33:43.328780Z"
    }
   },
   "outputs": [
    {
     "data": {
      "text/plain": [
       "pandas.core.series.Series"
      ]
     },
     "execution_count": 16,
     "metadata": {},
     "output_type": "execute_result"
    }
   ],
   "source": [
    "type(x[\"SICK\"])"
   ]
  },
  {
   "cell_type": "markdown",
   "id": "fa7b8ade",
   "metadata": {},
   "source": [
    "## re-visualize"
   ]
  },
  {
   "cell_type": "code",
   "execution_count": 17,
   "id": "e3d3f0e8",
   "metadata": {
    "ExecuteTime": {
     "end_time": "2023-09-15T15:33:43.415613Z",
     "start_time": "2023-09-15T15:33:43.332401Z"
    }
   },
   "outputs": [
    {
     "data": {
      "image/png": "[encoded data removed]",
      "text/plain": [
       "<Figure size 576x432 with 1 Axes>"
      ]
     },
     "metadata": {
      "needs_background": "light"
     },
     "output_type": "display_data"
    }
   ],
   "source": [
    "# cases  \n",
    "plt.figure(figsize=(8, 6))  # Optional: Set the figure size\n",
    "plt.hist(x[x[\"SICK\"]==1][\"RACE_FEATURE\"], color='skyblue', edgecolor='black', bins=2)\n",
    "plt.xlabel(\"Race\")\n",
    "plt.xticks(ticks=[0.25,0.75],labels=[\"White\",\"African American\"], rotation=45)\n",
    "plt.ylabel('Frequency')\n",
    "plt.title(f'Histogram of Race (CASES)')\n",
    "plt.grid(True)\n",
    "plt.show()"
   ]
  },
  {
   "cell_type": "code",
   "execution_count": 18,
   "id": "d69b7708",
   "metadata": {
    "ExecuteTime": {
     "end_time": "2023-09-15T15:33:43.483560Z",
     "start_time": "2023-09-15T15:33:43.416734Z"
    }
   },
   "outputs": [
    {
     "data": {
      "image/png": "[encoded data removed]",
      "text/plain": [
       "<Figure size 576x432 with 1 Axes>"
      ]
     },
     "metadata": {
      "needs_background": "light"
     },
     "output_type": "display_data"
    }
   ],
   "source": [
    "# controls \n",
    "plt.figure(figsize=(8, 6))  # Optional: Set the figure size\n",
    "plt.hist(x[x[\"SICK\"]==0][\"RACE_FEATURE\"], color='skyblue', edgecolor='black', bins=2)\n",
    "plt.xlabel(\"Race\")\n",
    "plt.xticks(ticks=[0.25,0.75],labels=[\"White\",\"African American\"], rotation=45)\n",
    "plt.ylabel('Frequency')\n",
    "plt.title(f'Histogram of Race (controls)')\n",
    "plt.grid(True)\n",
    "plt.show()"
   ]
  },
  {
   "cell_type": "code",
   "execution_count": 19,
   "id": "4129c77f",
   "metadata": {
    "ExecuteTime": {
     "end_time": "2023-09-15T15:33:43.578727Z",
     "start_time": "2023-09-15T15:33:43.484603Z"
    }
   },
   "outputs": [
    {
     "data": {
      "image/png": "[encoded data removed]",
      "text/plain": [
       "<Figure size 576x432 with 1 Axes>"
      ]
     },
     "metadata": {
      "needs_background": "light"
     },
     "output_type": "display_data"
    }
   ],
   "source": [
    "#\n",
    "# plot both on same chart. Grrr.\n",
    "#\n",
    "plt.figure(figsize=(8, 6))  # Optional: Set the figure size\n",
    "plt.hist(\n",
    " #   [x[x[\"RACE_FEATURE\"]==1][\"SICK\"],x[x[\"RACE_FEATURE\"]==0][\"SICK\"]], label=[\"AA\",\"CA\"],\n",
    "    [x[x[\"SICK\"]==1][\"RACE_FEATURE\"],x[x[\"SICK\"]==0][\"RACE_FEATURE\"]], label=[\"Case\",\"Control\"],\n",
    "    color=['red','skyblue'] ,\n",
    "    edgecolor='black', \n",
    "    bins=2,\n",
    "     density=True\n",
    ")\n",
    "\n",
    "plt.xlabel(\"Race\")\n",
    "plt.xticks(ticks=[0.25,0.75],labels=[\"White\",\"African American\"], rotation=45)\n",
    "plt.ylabel('Frequency')\n",
    "plt.title(f'Histogram of Race (Cases & Controls) [normalized]')\n",
    "plt.grid(True)\n",
    "plt.legend(loc='upper right')\n",
    "plt.show()"
   ]
  },
  {
   "cell_type": "markdown",
   "id": "67384e47",
   "metadata": {},
   "source": [
    "## ML format for dataset"
   ]
  },
  {
   "cell_type": "code",
   "execution_count": 20,
   "id": "fb614bbb",
   "metadata": {
    "ExecuteTime": {
     "end_time": "2023-09-15T15:33:43.590022Z",
     "start_time": "2023-09-15T15:33:43.580040Z"
    },
    "scrolled": true
   },
   "outputs": [
    {
     "name": "stdout",
     "output_type": "stream",
     "text": [
      "feature_names: ['RACE_FEATURE', 'GENDER_FEATURE', 'ZIP', 'MARITAL_STATUS_Life Partner', 'MARITAL_STATUS_Married', 'MARITAL_STATUS_Separated', 'MARITAL_STATUS_Single', 'MARITAL_STATUS_Unknown', 'MARITAL_STATUS_Widowed']\n"
     ]
    },
    {
     "data": {
      "text/plain": [
       "array([[    1,     0, 36083,     0,     0,     0,     1,     0,     0],\n",
       "       [    1,     0, 36027,     0,     1,     0,     0,     0,     0],\n",
       "       [    1,     1, 35214,     0,     0,     0,     1,     0,     0]])"
      ]
     },
     "execution_count": 20,
     "metadata": {},
     "output_type": "execute_result"
    }
   ],
   "source": [
    "# convert our dataFrame to a numpy array of integers\n",
    "feature_names=x.columns.tolist()[:-1]\n",
    "print(\"feature_names:\",feature_names)\n",
    "# test on 3 rows\n",
    "#x[feature_names][0:3].astype('int')\n",
    "#data = np.array(x[x.columns.tolist()[:-1]][0:3].astype('int'))\n",
    "data = np.array(x[feature_names].astype('int'))\n",
    "data[0:3]"
   ]
  },
  {
   "cell_type": "code",
   "execution_count": 21,
   "id": "c703c8a6",
   "metadata": {
    "ExecuteTime": {
     "end_time": "2023-09-15T15:33:44.286662Z",
     "start_time": "2023-09-15T15:33:43.591027Z"
    }
   },
   "outputs": [
    {
     "data": {
      "text/plain": [
       "{'data': array([[    1,     0, 36083, ...,     1,     0,     0],\n",
       "        [    1,     0, 36027, ...,     0,     0,     0],\n",
       "        [    1,     1, 35214, ...,     1,     0,     0],\n",
       "        ...,\n",
       "        [    1,     0, 35209, ...,     0,     0,     0],\n",
       "        [    0,     0, 35143, ...,     0,     0,     1],\n",
       "        [    1,     0, 35405, ...,     0,     0,     0]]),\n",
       " 'target': 0        1\n",
       " 1        1\n",
       " 2        1\n",
       " 3        1\n",
       " 4        1\n",
       "         ..\n",
       " 69995    0\n",
       " 69996    0\n",
       " 69997    0\n",
       " 69998    0\n",
       " 69999    0\n",
       " Name: SICK, Length: 65959, dtype: int64,\n",
       " 'feature_names': ['RACE_FEATURE',\n",
       "  'GENDER_FEATURE',\n",
       "  'ZIP',\n",
       "  'MARITAL_STATUS_Life Partner',\n",
       "  'MARITAL_STATUS_Married',\n",
       "  'MARITAL_STATUS_Separated',\n",
       "  'MARITAL_STATUS_Single',\n",
       "  'MARITAL_STATUS_Unknown',\n",
       "  'MARITAL_STATUS_Widowed']}"
      ]
     },
     "execution_count": 21,
     "metadata": {},
     "output_type": "execute_result"
    }
   ],
   "source": [
    "# build Bunch data dictionary for analysis\n",
    "from sklearn.utils import Bunch\n",
    "\n",
    "ds = Bunch(data=data,target=x[\"SICK\"].astype('int'),feature_names=feature_names)\n",
    "\n",
    "ds"
   ]
  },
  {
   "cell_type": "code",
   "execution_count": 22,
   "id": "a846a4bb",
   "metadata": {
    "ExecuteTime": {
     "end_time": "2023-09-15T15:33:44.289668Z",
     "start_time": "2023-09-15T15:33:44.287699Z"
    }
   },
   "outputs": [],
   "source": [
    "label_names = [\"Sick\",\"Healthy\"]\n",
    "labels = ds['target']\n",
    "feature_names = ds['feature_names']\n",
    "features = ds['data']"
   ]
  },
  {
   "cell_type": "markdown",
   "id": "bb7ad966",
   "metadata": {},
   "source": [
    "# ML Train (GaussianNB)"
   ]
  },
  {
   "cell_type": "code",
   "execution_count": 23,
   "id": "024d9e59",
   "metadata": {
    "ExecuteTime": {
     "end_time": "2023-09-15T15:33:44.850725Z",
     "start_time": "2023-09-15T15:33:44.290712Z"
    }
   },
   "outputs": [
    {
     "name": "stdout",
     "output_type": "stream",
     "text": [
      "train dims (39575, 9)\n",
      "test dims  (26384, 9)\n",
      "preds len: 26384 \n",
      " preds sum: 180 \n",
      " [0 0 0 ... 0 0 0]\n"
     ]
    }
   ],
   "source": [
    "#\n",
    "# split to training and test subsets\n",
    "#\n",
    "from sklearn.model_selection import train_test_split\n",
    "train, test, train_labels, test_labels = train_test_split(features,\n",
    "                                                          labels,\n",
    "                                                          test_size = 0.40, \n",
    "                                                          random_state = 42)\n",
    "print(\"train dims\", train.shape)\n",
    "print(\"test dims \", test.shape)\n",
    "\n",
    "\n",
    "from sklearn.naive_bayes import GaussianNB\n",
    "gnb = GaussianNB()\n",
    "model = gnb.fit(train, train_labels)\n",
    "preds = gnb.predict(test)\n",
    "\n",
    "print(\"preds len:\",preds.size,\"\\n\",\n",
    "      \"preds sum:\",sum(preds),\"\\n\",\n",
    "      preds)"
   ]
  },
  {
   "cell_type": "markdown",
   "id": "edad5d90",
   "metadata": {},
   "source": [
    "# Evaluate"
   ]
  },
  {
   "cell_type": "code",
   "execution_count": 24,
   "id": "40892bd7",
   "metadata": {
    "ExecuteTime": {
     "end_time": "2023-09-15T15:33:44.855309Z",
     "start_time": "2023-09-15T15:33:44.851805Z"
    }
   },
   "outputs": [
    {
     "name": "stdout",
     "output_type": "stream",
     "text": [
      "Accuracy score:  0.9824514857489387\n"
     ]
    }
   ],
   "source": [
    "from sklearn import metrics \n",
    "print(\"Accuracy score: \",metrics.accuracy_score(test_labels,preds))"
   ]
  },
  {
   "cell_type": "code",
   "execution_count": 25,
   "id": "0b60748e",
   "metadata": {
    "ExecuteTime": {
     "end_time": "2023-09-15T15:33:44.861823Z",
     "start_time": "2023-09-15T15:33:44.856399Z"
    }
   },
   "outputs": [
    {
     "name": "stdout",
     "output_type": "stream",
     "text": [
      "I'm confused about how to apply this....\n"
     ]
    }
   ],
   "source": [
    "# confusion \n",
    "from sklearn import metrics\n",
    "#print(metrics.classification_report(labels, preds))\n",
    "print(\"I'm confused about how to apply this....\")"
   ]
  }
 ],
 "metadata": {
  "anaconda-cloud": {},
  "celltoolbar": "Raw Cell Format",
  "kernelspec": {
   "display_name": "Python 3 (ipykernel)",
   "language": "python",
   "name": "python3"
  },
  "language_info": {
   "codemirror_mode": {
    "name": "ipython",
    "version": 3
   },
   "file_extension": ".py",
   "mimetype": "text/x-python",
   "name": "python",
   "nbconvert_exporter": "python",
   "pygments_lexer": "ipython3",
   "version": "3.9.12"
  },
  "toc": {
   "base_numbering": 1,
   "nav_menu": {},
   "number_sections": true,
   "sideBar": true,
   "skip_h1_title": false,
   "title_cell": "Table of Contents",
   "title_sidebar": "Contents",
   "toc_cell": false,
   "toc_position": {},
   "toc_section_display": true,
   "toc_window_display": false
  }
 },
 "nbformat": 4,
 "nbformat_minor": 5
}
