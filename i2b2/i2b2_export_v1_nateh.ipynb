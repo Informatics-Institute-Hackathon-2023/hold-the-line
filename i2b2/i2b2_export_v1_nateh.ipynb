{
 "cells": [
  {
   "cell_type": "markdown",
   "id": "bc46df57",
   "metadata": {},
   "source": [
    "# i2b2 export analysis (v1)\n"
   ]
  },
  {
   "cell_type": "code",
   "execution_count": 1,
   "id": "ba59d43d",
   "metadata": {
    "ExecuteTime": {
     "end_time": "2023-09-11T02:24:41.454680Z",
     "start_time": "2023-09-11T02:24:39.251550Z"
    }
   },
   "outputs": [
    {
     "name": "stderr",
     "output_type": "stream",
     "text": [
      "Matplotlib is building the font cache; this may take a moment.\n"
     ]
    }
   ],
   "source": [
    "import pandas as pd\n",
    "import matplotlib.pyplot as plt"
   ]
  },
  {
   "cell_type": "markdown",
   "id": "cdedd574",
   "metadata": {},
   "source": [
    "# load data"
   ]
  },
  {
   "cell_type": "code",
   "execution_count": 2,
   "id": "980edbd6",
   "metadata": {
    "ExecuteTime": {
     "end_time": "2023-09-11T02:20:35.337489Z",
     "start_time": "2023-09-11T02:20:35.305828Z"
    }
   },
   "outputs": [],
   "source": [
    "#declare files\n",
    "casefile = \"exports/v1/i2b2-export_patient-central-line-infections-sample_20230911-013643.csv\"\n",
    "controlfile = \"exports/v1/i2b2-export_patient-central-line-sample_20230911-015152.csv\"\n",
    "# load data\n",
    "case = pd.read_csv(casefile)\n",
    "control = pd.read_csv(controlfile)"
   ]
  },
  {
   "cell_type": "markdown",
   "id": "9a27bb24",
   "metadata": {},
   "source": [
    "# visualize data"
   ]
  },
  {
   "cell_type": "code",
   "execution_count": 3,
   "id": "1ada48b9",
   "metadata": {
    "ExecuteTime": {
     "end_time": "2023-09-11T02:26:11.151666Z",
     "start_time": "2023-09-11T02:26:10.962956Z"
    },
    "scrolled": true
   },
   "outputs": [
    {
     "data": {
      "image/png": "[encoded data removed]",
      "text/plain": [
       "<Figure size 576x432 with 1 Axes>"
      ]
     },
     "metadata": {
      "needs_background": "light"
     },
     "output_type": "display_data"
    },
    {
     "data": {
      "image/png": "[encoded data removed]",
      "text/plain": [
       "<Figure size 576x432 with 1 Axes>"
      ]
     },
     "metadata": {
      "needs_background": "light"
     },
     "output_type": "display_data"
    }
   ],
   "source": [
    "# histograms\n",
    "plt.figure(figsize=(8, 6))  # Optional: Set the figure size\n",
    "plt.hist(case[\"Race\"], color='skyblue', edgecolor='black')\n",
    "plt.xlabel(\"Race\")\n",
    "plt.ylabel('Frequency')\n",
    "plt.title(f'Histogram of Race (cases)')\n",
    "plt.grid(True)\n",
    "plt.show()\n",
    "\n",
    "# controls \n",
    "plt.figure(figsize=(8, 6))  # Optional: Set the figure size\n",
    "plt.hist(control[\"Race\"], color='skyblue', edgecolor='black')\n",
    "plt.xlabel(\"Race\")\n",
    "plt.ylabel('Frequency')\n",
    "plt.title(f'Histogram of Race (controls)')\n",
    "plt.grid(True)\n",
    "plt.show()"
   ]
  },
  {
   "cell_type": "code",
   "execution_count": 7,
   "id": "a233e816",
   "metadata": {},
   "outputs": [],
   "source": [
    "whitecase = case[\"Race\"].value_counts()['White']\n",
    "blackcase = case[\"Race\"].value_counts()['Black or African American']\n",
    "whitecontrol = control[\"Race\"].value_counts()['White']\n",
    "blackcontrol = control[\"Race\"].value_counts()['Black or African American']"
   ]
  },
  {
   "cell_type": "code",
   "execution_count": 8,
   "id": "1429fcb8",
   "metadata": {},
   "outputs": [
    {
     "name": "stdout",
     "output_type": "stream",
     "text": [
      "p value is 0.8860026558011562\n",
      "Independent (H0 holds true)\n"
     ]
    }
   ],
   "source": [
    "from scipy.stats import chi2_contingency\n",
    " \n",
    "# defining the table\n",
    "data = [[whitecase, blackcase], [whitecontrol, blackcontrol]]\n",
    "\n",
    "#            white        black\n",
    "# Case     casewhite    caseblack\n",
    "#control   whitecontrol blackcontrol\n",
    "\n",
    "stat, p, dof, expected = chi2_contingency(data)\n",
    " \n",
    "# interpret p-value\n",
    "alpha = 0.05\n",
    "print(\"p value is \" + str(p))\n",
    "if p <= alpha:\n",
    "    print('Dependent (reject H0)')\n",
    "else:\n",
    "    print('Independent (H0 holds true)')"
   ]
  },
  {
   "cell_type": "code",
   "execution_count": 9,
   "id": "53fb9634",
   "metadata": {},
   "outputs": [],
   "source": [
    "mancase = case[\"Sex\"].value_counts()['MALE']\n",
    "womancase = case[\"Sex\"].value_counts()['FEMALE']\n",
    "mancontrol = control[\"Sex\"].value_counts()['MALE']\n",
    "womancontrol = control[\"Sex\"].value_counts()['FEMALE']"
   ]
  },
  {
   "cell_type": "code",
   "execution_count": 10,
   "id": "ee384a76",
   "metadata": {},
   "outputs": [
    {
     "name": "stdout",
     "output_type": "stream",
     "text": [
      "p value is 0.9004970245874092\n",
      "Independent (H0 holds true)\n"
     ]
    }
   ],
   "source": [
    "# defining the table\n",
    "data = [[mancase, womancase], [mancontrol, womancontrol]]\n",
    "\n",
    "#            man          woman\n",
    "# Case     mancase      womancase\n",
    "#control   mancontrol   womancontrol\n",
    "\n",
    "stat, p, dof, expected = chi2_contingency(data)\n",
    " \n",
    "# interpret p-value\n",
    "alpha = 0.05\n",
    "print(\"p value is \" + str(p))\n",
    "if p <= alpha:\n",
    "    print('Dependent (reject H0)')\n",
    "else:\n",
    "    print('Independent (H0 holds true)')"
   ]
  },
  {
   "cell_type": "code",
   "execution_count": 11,
   "id": "39be75dd",
   "metadata": {},
   "outputs": [
    {
     "data": {
      "text/html": [
       "<div>\n",
       "<style scoped>\n",
       "    .dataframe tbody tr th:only-of-type {\n",
       "        vertical-align: middle;\n",
       "    }\n",
       "\n",
       "    .dataframe tbody tr th {\n",
       "        vertical-align: top;\n",
       "    }\n",
       "\n",
       "    .dataframe thead th {\n",
       "        text-align: right;\n",
       "    }\n",
       "</style>\n",
       "<table border=\"1\" class=\"dataframe\">\n",
       "  <thead>\n",
       "    <tr style=\"text-align: right;\">\n",
       "      <th></th>\n",
       "      <th></th>\n",
       "      <th>Patient ID</th>\n",
       "      <th>Sex</th>\n",
       "      <th>Age in Years</th>\n",
       "      <th>Birth Year</th>\n",
       "      <th>Vital Status</th>\n",
       "      <th>Language</th>\n",
       "      <th>Race</th>\n",
       "      <th>Regligion</th>\n",
       "      <th>Income</th>\n",
       "      <th>Locality</th>\n",
       "      <th>Marital Status</th>\n",
       "      <th>Infection due to central venous catheter (ICD10:T80.21)</th>\n",
       "      <th>Unnamed: 13</th>\n",
       "    </tr>\n",
       "  </thead>\n",
       "  <tbody>\n",
       "    <tr>\n",
       "      <th>0</th>\n",
       "      <td>1</td>\n",
       "      <td>1511102</td>\n",
       "      <td>MALE</td>\n",
       "      <td>-1</td>\n",
       "      <td>1934</td>\n",
       "      <td>Deceased</td>\n",
       "      <td>English</td>\n",
       "      <td>White</td>\n",
       "      <td>Baptist</td>\n",
       "      <td>undefined</td>\n",
       "      <td>AL,</td>\n",
       "      <td>Married</td>\n",
       "      <td>ICD9:999.31 = PICC LINE INFECTION (DIAGNOSIS:B...</td>\n",
       "      <td>NaN</td>\n",
       "    </tr>\n",
       "    <tr>\n",
       "      <th>1</th>\n",
       "      <td>2</td>\n",
       "      <td>1517611</td>\n",
       "      <td>FEMALE</td>\n",
       "      <td>-1</td>\n",
       "      <td>1954</td>\n",
       "      <td>Deceased</td>\n",
       "      <td>English</td>\n",
       "      <td>Black or African American</td>\n",
       "      <td>Baptist</td>\n",
       "      <td>undefined</td>\n",
       "      <td>AL,</td>\n",
       "      <td>Married</td>\n",
       "      <td>ICD9:999.31 = OTHER AND UNSPECIFIED INFECTION ...</td>\n",
       "      <td>NaN</td>\n",
       "    </tr>\n",
       "    <tr>\n",
       "      <th>2</th>\n",
       "      <td>3</td>\n",
       "      <td>1802996</td>\n",
       "      <td>MALE</td>\n",
       "      <td>29</td>\n",
       "      <td>1994</td>\n",
       "      <td>Alive</td>\n",
       "      <td>English</td>\n",
       "      <td>White</td>\n",
       "      <td>Christian</td>\n",
       "      <td>undefined</td>\n",
       "      <td>AL,</td>\n",
       "      <td>Single</td>\n",
       "      <td>ICD9:999.31 = OTHER AND UNSPECIFIED INFECTION ...</td>\n",
       "      <td>NaN</td>\n",
       "    </tr>\n",
       "    <tr>\n",
       "      <th>3</th>\n",
       "      <td>4</td>\n",
       "      <td>1842354</td>\n",
       "      <td>FEMALE</td>\n",
       "      <td>-1</td>\n",
       "      <td>1947</td>\n",
       "      <td>Deceased</td>\n",
       "      <td>English</td>\n",
       "      <td>White</td>\n",
       "      <td>Baptist</td>\n",
       "      <td>undefined</td>\n",
       "      <td>MS,</td>\n",
       "      <td>Married</td>\n",
       "      <td>ICD9:999.31 = OTHER AND UNSPECIFIED INFECTION ...</td>\n",
       "      <td>NaN</td>\n",
       "    </tr>\n",
       "    <tr>\n",
       "      <th>4</th>\n",
       "      <td>5</td>\n",
       "      <td>1924557</td>\n",
       "      <td>FEMALE</td>\n",
       "      <td>52</td>\n",
       "      <td>1971</td>\n",
       "      <td>Alive</td>\n",
       "      <td>English</td>\n",
       "      <td>White</td>\n",
       "      <td>Christian</td>\n",
       "      <td>undefined</td>\n",
       "      <td>AL,</td>\n",
       "      <td>Married</td>\n",
       "      <td>ICD9:999.31 = OTHER AND UNSPECIFIED INFECTION ...</td>\n",
       "      <td>NaN</td>\n",
       "    </tr>\n",
       "    <tr>\n",
       "      <th>...</th>\n",
       "      <td>...</td>\n",
       "      <td>...</td>\n",
       "      <td>...</td>\n",
       "      <td>...</td>\n",
       "      <td>...</td>\n",
       "      <td>...</td>\n",
       "      <td>...</td>\n",
       "      <td>...</td>\n",
       "      <td>...</td>\n",
       "      <td>...</td>\n",
       "      <td>...</td>\n",
       "      <td>...</td>\n",
       "      <td>...</td>\n",
       "      <td>...</td>\n",
       "    </tr>\n",
       "    <tr>\n",
       "      <th>105</th>\n",
       "      <td>106</td>\n",
       "      <td>296283</td>\n",
       "      <td>MALE</td>\n",
       "      <td>-1</td>\n",
       "      <td>1959</td>\n",
       "      <td>Deceased</td>\n",
       "      <td>English</td>\n",
       "      <td>Multiple</td>\n",
       "      <td>None</td>\n",
       "      <td>undefined</td>\n",
       "      <td>AL,</td>\n",
       "      <td>Single</td>\n",
       "      <td>ICD9:999.32 = BLOODSTREAM INFECTION DUE TO CEN...</td>\n",
       "      <td>NaN</td>\n",
       "    </tr>\n",
       "    <tr>\n",
       "      <th>106</th>\n",
       "      <td>107</td>\n",
       "      <td>636966</td>\n",
       "      <td>FEMALE</td>\n",
       "      <td>-1</td>\n",
       "      <td>1956</td>\n",
       "      <td>Deceased</td>\n",
       "      <td>English</td>\n",
       "      <td>Black or African American</td>\n",
       "      <td>Christian</td>\n",
       "      <td>undefined</td>\n",
       "      <td>AL,</td>\n",
       "      <td>Married</td>\n",
       "      <td>ICD9:999.32 = BLOODSTREAM INFECTION DUE TO CEN...</td>\n",
       "      <td>NaN</td>\n",
       "    </tr>\n",
       "    <tr>\n",
       "      <th>107</th>\n",
       "      <td>108</td>\n",
       "      <td>1287337</td>\n",
       "      <td>FEMALE</td>\n",
       "      <td>-1</td>\n",
       "      <td>1951</td>\n",
       "      <td>Deceased</td>\n",
       "      <td>English</td>\n",
       "      <td>White</td>\n",
       "      <td>Christian</td>\n",
       "      <td>undefined</td>\n",
       "      <td>AL,</td>\n",
       "      <td>Married</td>\n",
       "      <td>ICD9:999.32 = BLOODSTREAM INFECTION DUE TO CEN...</td>\n",
       "      <td>NaN</td>\n",
       "    </tr>\n",
       "    <tr>\n",
       "      <th>108</th>\n",
       "      <td>109</td>\n",
       "      <td>1380884</td>\n",
       "      <td>MALE</td>\n",
       "      <td>43</td>\n",
       "      <td>1980</td>\n",
       "      <td>Alive</td>\n",
       "      <td>English</td>\n",
       "      <td>White</td>\n",
       "      <td>Baptist</td>\n",
       "      <td>undefined</td>\n",
       "      <td>AL,</td>\n",
       "      <td>Single</td>\n",
       "      <td>ICD9:999.32 = BLOODSTREAM INFECTION DUE TO CEN...</td>\n",
       "      <td>NaN</td>\n",
       "    </tr>\n",
       "    <tr>\n",
       "      <th>109</th>\n",
       "      <td>110</td>\n",
       "      <td>1556658</td>\n",
       "      <td>FEMALE</td>\n",
       "      <td>-1</td>\n",
       "      <td>1959</td>\n",
       "      <td>Deceased</td>\n",
       "      <td>English</td>\n",
       "      <td>Black or African American</td>\n",
       "      <td>Baptist</td>\n",
       "      <td>undefined</td>\n",
       "      <td>FL,</td>\n",
       "      <td>Married</td>\n",
       "      <td>ICD9:999.32 = BLOODSTREAM INFECTION DUE TO CEN...</td>\n",
       "      <td>NaN</td>\n",
       "    </tr>\n",
       "  </tbody>\n",
       "</table>\n",
       "<p>110 rows × 14 columns</p>\n",
       "</div>"
      ],
      "text/plain": [
       "          Patient ID     Sex  Age in Years  Birth Year Vital Status Language  \\\n",
       "0      1     1511102    MALE            -1        1934     Deceased  English   \n",
       "1      2     1517611  FEMALE            -1        1954     Deceased  English   \n",
       "2      3     1802996    MALE            29        1994        Alive  English   \n",
       "3      4     1842354  FEMALE            -1        1947     Deceased  English   \n",
       "4      5     1924557  FEMALE            52        1971        Alive  English   \n",
       "..   ...         ...     ...           ...         ...          ...      ...   \n",
       "105  106      296283    MALE            -1        1959     Deceased  English   \n",
       "106  107      636966  FEMALE            -1        1956     Deceased  English   \n",
       "107  108     1287337  FEMALE            -1        1951     Deceased  English   \n",
       "108  109     1380884    MALE            43        1980        Alive  English   \n",
       "109  110     1556658  FEMALE            -1        1959     Deceased  English   \n",
       "\n",
       "                          Race  Regligion     Income Locality Marital Status  \\\n",
       "0                        White    Baptist  undefined     AL,         Married   \n",
       "1    Black or African American    Baptist  undefined     AL,         Married   \n",
       "2                        White  Christian  undefined     AL,          Single   \n",
       "3                        White    Baptist  undefined     MS,         Married   \n",
       "4                        White  Christian  undefined     AL,         Married   \n",
       "..                         ...        ...        ...      ...            ...   \n",
       "105                   Multiple       None  undefined     AL,          Single   \n",
       "106  Black or African American  Christian  undefined     AL,         Married   \n",
       "107                      White  Christian  undefined     AL,         Married   \n",
       "108                      White    Baptist  undefined     AL,          Single   \n",
       "109  Black or African American    Baptist  undefined     FL,         Married   \n",
       "\n",
       "    Infection due to central venous catheter (ICD10:T80.21)  Unnamed: 13  \n",
       "0    ICD9:999.31 = PICC LINE INFECTION (DIAGNOSIS:B...               NaN  \n",
       "1    ICD9:999.31 = OTHER AND UNSPECIFIED INFECTION ...               NaN  \n",
       "2    ICD9:999.31 = OTHER AND UNSPECIFIED INFECTION ...               NaN  \n",
       "3    ICD9:999.31 = OTHER AND UNSPECIFIED INFECTION ...               NaN  \n",
       "4    ICD9:999.31 = OTHER AND UNSPECIFIED INFECTION ...               NaN  \n",
       "..                                                 ...               ...  \n",
       "105  ICD9:999.32 = BLOODSTREAM INFECTION DUE TO CEN...               NaN  \n",
       "106  ICD9:999.32 = BLOODSTREAM INFECTION DUE TO CEN...               NaN  \n",
       "107  ICD9:999.32 = BLOODSTREAM INFECTION DUE TO CEN...               NaN  \n",
       "108  ICD9:999.32 = BLOODSTREAM INFECTION DUE TO CEN...               NaN  \n",
       "109  ICD9:999.32 = BLOODSTREAM INFECTION DUE TO CEN...               NaN  \n",
       "\n",
       "[110 rows x 14 columns]"
      ]
     },
     "execution_count": 11,
     "metadata": {},
     "output_type": "execute_result"
    }
   ],
   "source": [
    "case"
   ]
  },
  {
   "cell_type": "code",
   "execution_count": 13,
   "id": "54a202bd",
   "metadata": {},
   "outputs": [
    {
     "name": "stdout",
     "output_type": "stream",
     "text": [
      "33   62   2   8   1\n"
     ]
    }
   ],
   "source": [
    "print(case[\"Marital Status\"].value_counts()['Single'], ' ', case[\"Marital Status\"].value_counts()['Married'], ' ', case[\"Marital Status\"].value_counts()['Separated'], ' ', case[\"Marital Status\"].value_counts()['Divorced'], ' ', case[\"Marital Status\"].value_counts()['Unknown'])"
   ]
  },
  {
   "cell_type": "code",
   "execution_count": 15,
   "id": "44ed9f6a",
   "metadata": {},
   "outputs": [
    {
     "name": "stdout",
     "output_type": "stream",
     "text": [
      "46   35   1   12\n"
     ]
    }
   ],
   "source": [
    "print(control[\"Marital Status\"].value_counts()['Single'], ' ', control[\"Marital Status\"].value_counts()['Married'], ' ', control[\"Marital Status\"].value_counts()['Separated'], ' ', control[\"Marital Status\"].value_counts()['Divorced'])"
   ]
  },
  {
   "cell_type": "code",
   "execution_count": 18,
   "id": "66e2f04f",
   "metadata": {},
   "outputs": [
    {
     "name": "stdout",
     "output_type": "stream",
     "text": [
      "p value is 0.008796096538333052\n",
      "Dependent (reject H0)\n"
     ]
    }
   ],
   "source": [
    "# defining the table\n",
    "data = [[case[\"Marital Status\"].value_counts()['Single'], case[\"Marital Status\"].value_counts()['Married'], case[\"Marital Status\"].value_counts()['Separated'] + case[\"Marital Status\"].value_counts()['Divorced']], [control[\"Marital Status\"].value_counts()['Single'], control[\"Marital Status\"].value_counts()['Married'], control[\"Marital Status\"].value_counts()['Separated'] + control[\"Marital Status\"].value_counts()['Divorced']]]\n",
    "\n",
    "#            man          woman\n",
    "# Case     mancase      womancase\n",
    "#control   mancontrol   womancontrol\n",
    "\n",
    "stat, p, dof, expected = chi2_contingency(data)\n",
    " \n",
    "# interpret p-value\n",
    "alpha = 0.05\n",
    "print(\"p value is \" + str(p))\n",
    "if p <= alpha:\n",
    "    print('Dependent (reject H0)')\n",
    "else:\n",
    "    print('Independent (H0 holds true)')"
   ]
  },
  {
   "cell_type": "markdown",
   "id": "e0c96881",
   "metadata": {},
   "source": [
    "# ML ATTEMPTS"
   ]
  },
  {
   "cell_type": "code",
   "execution_count": 17,
   "id": "425890fd",
   "metadata": {},
   "outputs": [],
   "source": [
    "import numpy as np\n",
    "import csv\n",
    "from sklearn.utils import Bunch\n",
    "\n",
    "def load_my_fancy_dataset(str file):\n",
    "    with open(str, r) as csv_file:\n",
    "        data_reader = csv.reader(csv_file)\n",
    "        feature_names = next(data_reader)[:-1]\n",
    "        data = []\n",
    "        target = []\n",
    "        for row in data_reader:\n",
    "            features = row[:-1]\n",
    "            label = row[-1]\n",
    "            data.append([d for d in features])\n",
    "            target.append(label)\n",
    "        \n",
    "        data = np.array(data)\n",
    "        target = np.array(target)\n",
    "    return Bunch(data=data, target=target, feature_names=feature_names)"
   ]
  },
  {
   "cell_type": "code",
   "execution_count": 18,
   "id": "66304046",
   "metadata": {},
   "outputs": [],
   "source": [
    "ds = load_my_fancy_dataset()"
   ]
  },
  {
   "cell_type": "code",
   "execution_count": 19,
   "id": "fb614bbb",
   "metadata": {},
   "outputs": [
    {
     "data": {
      "text/plain": [
       "{'data': array([['1', '1511102', 'MALE', ..., 'AL, ', 'Married',\n",
       "         'ICD9:999.31 = PICC LINE INFECTION (DIAGNOSIS:BILLING DIAGNOSIS)'],\n",
       "        ['2', '1517611', 'FEMALE', ..., 'AL, ', 'Married',\n",
       "         'ICD9:999.31 = OTHER AND UNSPECIFIED INFECTION DUE TO CENTRAL VENOUS CATHETER (DIAGNOSIS:FINAL)'],\n",
       "        ['3', '1802996', 'MALE', ..., 'AL, ', 'Single',\n",
       "         'ICD9:999.31 = OTHER AND UNSPECIFIED INFECTION DUE TO CENTRAL VENOUS CATHETER (DIAGNOSIS:FINAL)'],\n",
       "        ...,\n",
       "        ['108', '1287337', 'FEMALE', ..., 'AL, ', 'Married',\n",
       "         'ICD9:999.32 = BLOODSTREAM INFECTION DUE TO CENTRAL VENOUS CATHETER (DIAGNOSIS:FINAL), ICD9:999.33 = LOCAL INFECTION DUE TO CENTRAL VENOUS CATHETER (MSO BILLED CHARGES)'],\n",
       "        ['109', '1380884', 'MALE', ..., 'AL, ', 'Single',\n",
       "         'ICD9:999.32 = BLOODSTREAM INFECTION DUE TO CENTRAL VENOUS CATHETER (DIAGNOSIS:FINAL)'],\n",
       "        ['110', '1556658', 'FEMALE', ..., 'FL, ', 'Married',\n",
       "         'ICD9:999.32 = BLOODSTREAM INFECTION DUE TO CENTRAL VENOUS CATHETER (DIAGNOSIS:FINAL)']],\n",
       "       dtype='<U426'),\n",
       " 'target': array(['', '', '', '', '', '', '', '', '', '', '', '', '', '', '', '', '',\n",
       "        '', '', '', '', '', '', '', '', '', '', '', '', '', '', '', '', '',\n",
       "        '', '', '', '', '', '', '', '', '', '', '', '', '', '', '', '', '',\n",
       "        '', '', '', '', '', '', '', '', '', '', '', '', '', '', '', '', '',\n",
       "        '', '', '', '', '', '', '', '', '', '', '', '', '', '', '', '', '',\n",
       "        '', '', '', '', '', '', '', '', '', '', '', '', '', '', '', '', '',\n",
       "        '', '', '', '', '', '', '', ''], dtype='<U1'),\n",
       " 'feature_names': [' ',\n",
       "  'Patient ID',\n",
       "  'Sex',\n",
       "  'Age in Years',\n",
       "  'Birth Year',\n",
       "  'Vital Status',\n",
       "  'Language',\n",
       "  'Race',\n",
       "  'Regligion',\n",
       "  'Income',\n",
       "  'Locality',\n",
       "  'Marital Status',\n",
       "  'Infection due to central venous catheter (ICD10:T80.21)']}"
      ]
     },
     "execution_count": 19,
     "metadata": {},
     "output_type": "execute_result"
    }
   ],
   "source": [
    "ds"
   ]
  },
  {
   "cell_type": "code",
   "execution_count": null,
   "id": "024d9e59",
   "metadata": {},
   "outputs": [],
   "source": []
  }
 ],
 "metadata": {
  "anaconda-cloud": {},
  "kernelspec": {
   "display_name": "Python 3 (ipykernel)",
   "language": "python",
   "name": "python3"
  },
  "language_info": {
   "codemirror_mode": {
    "name": "ipython",
    "version": 3
   },
   "file_extension": ".py",
   "mimetype": "text/x-python",
   "name": "python",
   "nbconvert_exporter": "python",
   "pygments_lexer": "ipython3",
   "version": "3.9.12"
  },
  "toc": {
   "base_numbering": 1,
   "nav_menu": {},
   "number_sections": true,
   "sideBar": true,
   "skip_h1_title": false,
   "title_cell": "Table of Contents",
   "title_sidebar": "Contents",
   "toc_cell": false,
   "toc_position": {},
   "toc_section_display": true,
   "toc_window_display": false
  }
 },
 "nbformat": 4,
 "nbformat_minor": 5
}
