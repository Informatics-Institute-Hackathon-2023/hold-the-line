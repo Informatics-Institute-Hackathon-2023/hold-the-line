{
 "cells": [
  {
   "cell_type": "markdown",
   "id": "5837435a",
   "metadata": {},
   "source": [
    "# i2b2 export analysis (v3)\n",
    "case=708, control=99791"
   ]
  },
  {
   "cell_type": "code",
   "execution_count": 2,
   "id": "ffb2d29e",
   "metadata": {
    "ExecuteTime": {
     "end_time": "2023-09-15T18:06:40.102303Z",
     "start_time": "2023-09-15T18:06:33.579095Z"
    }
   },
   "outputs": [],
   "source": [
    "import pandas as pd\n",
    "import numpy as np\n",
    "import matplotlib.pyplot as plt"
   ]
  },
  {
   "cell_type": "markdown",
   "id": "fc764e8e",
   "metadata": {},
   "source": [
    "# load data"
   ]
  },
  {
   "cell_type": "code",
   "execution_count": 3,
   "id": "141978d3",
   "metadata": {
    "ExecuteTime": {
     "end_time": "2023-09-15T18:06:40.375247Z",
     "start_time": "2023-09-15T18:06:40.103747Z"
    }
   },
   "outputs": [
    {
     "name": "stdout",
     "output_type": "stream",
     "text": [
      "cases: (708, 19)\n",
      "controls: (99791, 19)\n",
      "% cases: 0.007044846217375297\n"
     ]
    }
   ],
   "source": [
    "# CASE\n",
    "cases = pd.read_csv(\"exports/v3/case/casehendx_patient_demographics_RDALEJ_NO_PHI_65669_1.csv\")\n",
    "print(\"cases:\",cases.shape)\n",
    "# CONTROL\n",
    "controls = pd.read_csv(\"exports/v3/control/CTRLHENDRX_patient_demographics_RDALEJ_NO_PHI_65679_1.csv\")\n",
    "print(\"controls:\",controls.shape)\n",
    "print(\"% cases:\", cases.shape[0]/(controls.shape[0]+cases.shape[0]))"
   ]
  },
  {
   "cell_type": "code",
   "execution_count": 4,
   "id": "86c94e30",
   "metadata": {
    "ExecuteTime": {
     "end_time": "2023-09-15T18:06:40.420603Z",
     "start_time": "2023-09-15T18:06:40.376470Z"
    }
   },
   "outputs": [
    {
     "data": {
      "text/html": [
       "<div>\n",
       "<style scoped>\n",
       "    .dataframe tbody tr th:only-of-type {\n",
       "        vertical-align: middle;\n",
       "    }\n",
       "\n",
       "    .dataframe tbody tr th {\n",
       "        vertical-align: top;\n",
       "    }\n",
       "\n",
       "    .dataframe thead th {\n",
       "        text-align: right;\n",
       "    }\n",
       "</style>\n",
       "<table border=\"1\" class=\"dataframe\">\n",
       "  <thead>\n",
       "    <tr style=\"text-align: right;\">\n",
       "      <th></th>\n",
       "      <th>MASTER_REQUEST_ID</th>\n",
       "      <th>QUERY_NAME</th>\n",
       "      <th>DE_ID</th>\n",
       "      <th>BIRTH_DATE</th>\n",
       "      <th>GENDER</th>\n",
       "      <th>STATE</th>\n",
       "      <th>ZIP</th>\n",
       "      <th>COUNTRY</th>\n",
       "      <th>CITY</th>\n",
       "      <th>COUNTY</th>\n",
       "      <th>MARITAL_STATUS</th>\n",
       "      <th>RACE</th>\n",
       "      <th>ETHNIC_GROUP</th>\n",
       "      <th>LANGUAGE</th>\n",
       "      <th>RELIGION</th>\n",
       "      <th>LIVING_WILL</th>\n",
       "      <th>DECEASED</th>\n",
       "      <th>DECEASED_DATE</th>\n",
       "      <th>CURRENT_AGE</th>\n",
       "    </tr>\n",
       "  </thead>\n",
       "  <tbody>\n",
       "    <tr>\n",
       "      <th>1</th>\n",
       "      <td>65669</td>\n",
       "      <td>Standard Data Request 65669 on 09/11/2023 14:2...</td>\n",
       "      <td>3929980373</td>\n",
       "      <td>09/10/1953 12:00:00 AM</td>\n",
       "      <td>M</td>\n",
       "      <td>AL</td>\n",
       "      <td>36027</td>\n",
       "      <td>US</td>\n",
       "      <td>EUFAULA</td>\n",
       "      <td>Barbour</td>\n",
       "      <td>Married</td>\n",
       "      <td>Black or African American</td>\n",
       "      <td>Non-Hispanic/Latino</td>\n",
       "      <td>English</td>\n",
       "      <td>Baptist</td>\n",
       "      <td>Unknown</td>\n",
       "      <td>NaN</td>\n",
       "      <td>NaN</td>\n",
       "      <td>70.0</td>\n",
       "    </tr>\n",
       "    <tr>\n",
       "      <th>2</th>\n",
       "      <td>65669</td>\n",
       "      <td>Standard Data Request 65669 on 09/11/2023 14:2...</td>\n",
       "      <td>3928658953</td>\n",
       "      <td>11/01/1991 12:00:00 AM</td>\n",
       "      <td>F</td>\n",
       "      <td>AL</td>\n",
       "      <td>35214</td>\n",
       "      <td>US</td>\n",
       "      <td>BIRMINGHAM</td>\n",
       "      <td>Jefferson</td>\n",
       "      <td>Single</td>\n",
       "      <td>Black or African American</td>\n",
       "      <td>Non-Hispanic/Latino</td>\n",
       "      <td>English</td>\n",
       "      <td>None</td>\n",
       "      <td>Unknown</td>\n",
       "      <td>NaN</td>\n",
       "      <td>NaN</td>\n",
       "      <td>31.0</td>\n",
       "    </tr>\n",
       "    <tr>\n",
       "      <th>3</th>\n",
       "      <td>65669</td>\n",
       "      <td>Standard Data Request 65669 on 09/11/2023 14:2...</td>\n",
       "      <td>3923618228</td>\n",
       "      <td>12/20/1949 12:00:00 AM</td>\n",
       "      <td>M</td>\n",
       "      <td>AL</td>\n",
       "      <td>35226</td>\n",
       "      <td>US</td>\n",
       "      <td>BIRMINGHAM</td>\n",
       "      <td>Jefferson</td>\n",
       "      <td>Married</td>\n",
       "      <td>White</td>\n",
       "      <td>Non-Hispanic/Latino</td>\n",
       "      <td>English</td>\n",
       "      <td>Catholic</td>\n",
       "      <td>Power of Attorney</td>\n",
       "      <td>NaN</td>\n",
       "      <td>NaN</td>\n",
       "      <td>73.0</td>\n",
       "    </tr>\n",
       "    <tr>\n",
       "      <th>4</th>\n",
       "      <td>65669</td>\n",
       "      <td>Standard Data Request 65669 on 09/11/2023 14:2...</td>\n",
       "      <td>3928772116</td>\n",
       "      <td>09/08/1961 12:00:00 AM</td>\n",
       "      <td>F</td>\n",
       "      <td>AL</td>\n",
       "      <td>36732</td>\n",
       "      <td>US</td>\n",
       "      <td>DEMOPOLIS</td>\n",
       "      <td>Marengo</td>\n",
       "      <td>Married</td>\n",
       "      <td>White</td>\n",
       "      <td>Non-Hispanic/Latino</td>\n",
       "      <td>English</td>\n",
       "      <td>Methodist</td>\n",
       "      <td>Both</td>\n",
       "      <td>Y</td>\n",
       "      <td>12/12/2014 12:00:00 AM</td>\n",
       "      <td>NaN</td>\n",
       "    </tr>\n",
       "  </tbody>\n",
       "</table>\n",
       "</div>"
      ],
      "text/plain": [
       "   MASTER_REQUEST_ID                                         QUERY_NAME  \\\n",
       "1              65669  Standard Data Request 65669 on 09/11/2023 14:2...   \n",
       "2              65669  Standard Data Request 65669 on 09/11/2023 14:2...   \n",
       "3              65669  Standard Data Request 65669 on 09/11/2023 14:2...   \n",
       "4              65669  Standard Data Request 65669 on 09/11/2023 14:2...   \n",
       "\n",
       "        DE_ID              BIRTH_DATE GENDER STATE    ZIP COUNTRY        CITY  \\\n",
       "1  3929980373  09/10/1953 12:00:00 AM      M    AL  36027      US     EUFAULA   \n",
       "2  3928658953  11/01/1991 12:00:00 AM      F    AL  35214      US  BIRMINGHAM   \n",
       "3  3923618228  12/20/1949 12:00:00 AM      M    AL  35226      US  BIRMINGHAM   \n",
       "4  3928772116  09/08/1961 12:00:00 AM      F    AL  36732      US   DEMOPOLIS   \n",
       "\n",
       "      COUNTY MARITAL_STATUS                       RACE         ETHNIC_GROUP  \\\n",
       "1    Barbour        Married  Black or African American  Non-Hispanic/Latino   \n",
       "2  Jefferson         Single  Black or African American  Non-Hispanic/Latino   \n",
       "3  Jefferson        Married                      White  Non-Hispanic/Latino   \n",
       "4    Marengo        Married                      White  Non-Hispanic/Latino   \n",
       "\n",
       "  LANGUAGE   RELIGION        LIVING_WILL DECEASED           DECEASED_DATE  \\\n",
       "1  English    Baptist            Unknown      NaN                     NaN   \n",
       "2  English       None            Unknown      NaN                     NaN   \n",
       "3  English   Catholic  Power of Attorney      NaN                     NaN   \n",
       "4  English  Methodist               Both        Y  12/12/2014 12:00:00 AM   \n",
       "\n",
       "   CURRENT_AGE  \n",
       "1         70.0  \n",
       "2         31.0  \n",
       "3         73.0  \n",
       "4          NaN  "
      ]
     },
     "execution_count": 4,
     "metadata": {},
     "output_type": "execute_result"
    }
   ],
   "source": [
    "# peek\n",
    "cases[1:5]"
   ]
  },
  {
   "cell_type": "markdown",
   "id": "6945439f",
   "metadata": {
    "ExecuteTime": {
     "end_time": "2023-09-15T06:25:34.840497Z",
     "start_time": "2023-09-15T06:25:34.837740Z"
    }
   },
   "source": [
    "# Code data for analysis\n",
    "  * convert strings to binary integers\n",
    "  * remove missing values\n",
    "  * split into training and test"
   ]
  },
  {
   "cell_type": "markdown",
   "id": "b0759983",
   "metadata": {},
   "source": [
    "Merge case and control data frames, introducing the classification variable \"SICK\", which is 0 for \"venous catheter, no infection\" and 1 for \"venous catheter infection\"\n",
    "\n",
    "We also \"balance\" the case/control, by subsampling the controls to 35k, so that cases are around 2% of the population, as we read that's recommended for classifier training. "
   ]
  },
  {
   "cell_type": "markdown",
   "id": "3006e3ad",
   "metadata": {},
   "source": [
    "## subset controls"
   ]
  },
  {
   "cell_type": "code",
   "execution_count": 5,
   "id": "2b1e039d",
   "metadata": {
    "ExecuteTime": {
     "end_time": "2023-09-15T18:06:45.202404Z",
     "start_time": "2023-09-15T18:06:40.421698Z"
    }
   },
   "outputs": [
    {
     "name": "stdout",
     "output_type": "stream",
     "text": [
      "controls              dims: (99791, 19)\n",
      "case % before subsampling : 0.007044846217375297\n",
      "controls (subsampled) dims: (35000, 19)\n",
      "case % after subsampling  : 0.019827489638176318\n"
     ]
    }
   ],
   "source": [
    "#\n",
    "# merge and subset controls to 7k\n",
    "\n",
    "# SUBSET controls\n",
    "from sklearn.utils import resample\n",
    "controlsSubset = resample(controls,n_samples=35000)\n",
    "print(\"controls              dims:\", controls.shape)\n",
    "print(\"case % before subsampling :\", cases.shape[0]/(controls.shape[0]+cases.shape[0]))\n",
    "print(\"controls (subsampled) dims:\", controlsSubset.shape)\n",
    "print(\"case % after subsampling  :\", cases.shape[0]/(controlsSubset.shape[0]+cases.shape[0]))\n"
   ]
  },
  {
   "cell_type": "markdown",
   "id": "bf3ca3a2",
   "metadata": {},
   "source": [
    "## merge case/control and add classification variable \"SICK\""
   ]
  },
  {
   "cell_type": "code",
   "execution_count": 6,
   "id": "1a182821",
   "metadata": {
    "ExecuteTime": {
     "end_time": "2023-09-15T18:06:45.215877Z",
     "start_time": "2023-09-15T18:06:45.203593Z"
    }
   },
   "outputs": [
    {
     "name": "stdout",
     "output_type": "stream",
     "text": [
      "caseSick (708, 20)\n",
      "controlSick (35000, 20)\n",
      "caseControlSick (35708, 20)\n"
     ]
    }
   ],
   "source": [
    "#\n",
    "# Add TARGET column\n",
    "# \n",
    "caseSick = cases.copy()\n",
    "caseSick[\"SICK\"] = 1\n",
    "print(\"caseSick\",caseSick.shape)\n",
    "controlSick = controlsSubset.copy()\n",
    "controlSick[\"SICK\"] = 0\n",
    "print(\"controlSick\", controlSick.shape)\n",
    "caseControlSick =pd.concat([caseSick, controlSick])\n",
    "\n",
    "print(\"caseControlSick\",caseControlSick.shape)"
   ]
  },
  {
   "cell_type": "markdown",
   "id": "0b090163",
   "metadata": {},
   "source": [
    "# code & clean data for analysis \n",
    "convert strings to integers, remove patients with missing data"
   ]
  },
  {
   "cell_type": "markdown",
   "id": "c473ec49",
   "metadata": {},
   "source": [
    "## remove missing data (NaN's)"
   ]
  },
  {
   "cell_type": "code",
   "execution_count": 7,
   "id": "c54ae95e",
   "metadata": {
    "ExecuteTime": {
     "end_time": "2023-09-15T18:06:45.302176Z",
     "start_time": "2023-09-15T18:06:45.217747Z"
    }
   },
   "outputs": [
    {
     "name": "stdout",
     "output_type": "stream",
     "text": [
      "GoodRows: 35696\n",
      "removed  12\n",
      "caseControlSickOk (35696, 20)\n",
      "NaN scan:\n",
      "\t MASTER_REQUEST_ID : 0\n",
      "\t QUERY_NAME : 0\n",
      "\t DE_ID : 0\n",
      "\t BIRTH_DATE : 0\n",
      "\t GENDER : 0\n",
      "\t STATE : 0\n",
      "\t ZIP : 0\n",
      "\t COUNTRY : 0\n",
      "\t CITY : 1\n",
      "\t COUNTY : 315\n",
      "\t MARITAL_STATUS : 0\n",
      "\t RACE : 0\n",
      "\t ETHNIC_GROUP : 1264\n",
      "\t LANGUAGE : 0\n",
      "\t RELIGION : 3\n",
      "\t LIVING_WILL : 468\n",
      "\t DECEASED : 25967\n",
      "\t DECEASED_DATE : 26011\n",
      "\t CURRENT_AGE : 9685\n",
      "\t SICK : 0\n"
     ]
    }
   ],
   "source": [
    "#\n",
    "# remove NANs\n",
    "#\n",
    "goodRows = np.logical_not(\n",
    "    # bad rows\n",
    "    np.logical_or(\n",
    "        np.logical_or(\n",
    "            caseControlSick[\"MARITAL_STATUS\"].isna(),\n",
    "            caseControlSick[\"GENDER\"].isna()\n",
    "        ),\n",
    "        np.logical_or(\n",
    "            caseControlSick[\"RACE\"].isna(),\n",
    "            caseControlSick[\"ZIP\"].isna()\n",
    "        )\n",
    "    )\n",
    ")\n",
    "print(\"GoodRows:\",sum(goodRows))\n",
    " # clean\n",
    "caseControlSickOk=caseControlSick.loc[goodRows]\n",
    "print(\"removed \",caseControlSick.shape[0]-caseControlSickOk.shape[0])\n",
    "print(\"caseControlSickOk\", caseControlSickOk.shape)\n",
    "#\n",
    "# double check\n",
    "# \n",
    "print(\"NaN scan:\")\n",
    "for f in caseControlSickOk.columns:\n",
    "    print(\"\\t\",f,\":\",sum(caseControlSickOk[f].isna()))"
   ]
  },
  {
   "cell_type": "markdown",
   "id": "9979691a",
   "metadata": {},
   "source": [
    "##  convert to categorical data"
   ]
  },
  {
   "cell_type": "code",
   "execution_count": 8,
   "id": "7b20ceeb",
   "metadata": {
    "ExecuteTime": {
     "end_time": "2023-09-15T18:06:46.169466Z",
     "start_time": "2023-09-15T18:06:45.303807Z"
    }
   },
   "outputs": [
    {
     "name": "stdout",
     "output_type": "stream",
     "text": [
      "caseControlSickOk (35696, 22)\n",
      "size 35696\n",
      "sum 33349\n",
      "sums race 22486 10863 33349 33349\n",
      "sums gender 19083 16613 35696 35696\n",
      "caseControlSickOKCoded (33349, 22)\n"
     ]
    },
    {
     "name": "stderr",
     "output_type": "stream",
     "text": [
      "/scratch/local/ipykernel_107238/344313266.py:8: SettingWithCopyWarning: \n",
      "A value is trying to be set on a copy of a slice from a DataFrame.\n",
      "Try using .loc[row_indexer,col_indexer] = value instead\n",
      "\n",
      "See the caveats in the documentation: https://pandas.pydata.org/pandas-docs/stable/user_guide/indexing.html#returning-a-view-versus-a-copy\n",
      "  caseControlSickOk.loc[blackRows,\"RACE_FEATURE\"]=1\n",
      "/scratch/local/ipykernel_107238/344313266.py:13: SettingWithCopyWarning: \n",
      "A value is trying to be set on a copy of a slice from a DataFrame.\n",
      "Try using .loc[row_indexer,col_indexer] = value instead\n",
      "\n",
      "See the caveats in the documentation: https://pandas.pydata.org/pandas-docs/stable/user_guide/indexing.html#returning-a-view-versus-a-copy\n",
      "  caseControlSickOk.loc[maleRows,\"GENDER_FEATURE\"]=0\n"
     ]
    }
   ],
   "source": [
    "#\n",
    "# convert categorical to numeric\n",
    "#\n",
    "# gives \"SettingWithCopyWarning\", but seems to work anyways??\n",
    "\n",
    "# code race\n",
    "blackRows = caseControlSickOk[\"RACE\"]==\"Black or African American\"\n",
    "caseControlSickOk.loc[blackRows,\"RACE_FEATURE\"]=1\n",
    "whiteRows = caseControlSickOk[\"RACE\"]==\"White\"\n",
    "caseControlSickOk.loc[whiteRows,\"RACE_FEATURE\"]=0\n",
    "# code gender\n",
    "maleRows = caseControlSickOk[\"GENDER\"]==\"M\"\n",
    "caseControlSickOk.loc[maleRows,\"GENDER_FEATURE\"]=0\n",
    "femaleRows = caseControlSickOk[\"GENDER\"]==\"F\"\n",
    "caseControlSickOk.loc[femaleRows,\"GENDER_FEATURE\"]=1\n",
    "\n",
    "# remove other races and genders\n",
    "codedRows=np.logical_and(np.logical_or(blackRows,whiteRows),np.logical_or(maleRows,femaleRows))\n",
    "print(\"caseControlSickOk\", caseControlSickOk.shape)\n",
    "print(\"size\",codedRows.size)\n",
    "print(\"sum\",sum(codedRows))\n",
    "print(\"sums race\",sum(whiteRows), sum(blackRows), sum(whiteRows)+sum(blackRows), \n",
    "     sum(np.logical_or(whiteRows,blackRows)))\n",
    "print(\"sums gender\",sum(maleRows), sum(femaleRows), sum(maleRows)+sum(femaleRows), \n",
    "     sum(np.logical_or(maleRows,femaleRows)))\n",
    "\n",
    "caseControlSickOKCoded=caseControlSickOk.loc[codedRows]\n",
    "print(\"caseControlSickOKCoded\",caseControlSickOKCoded.shape)"
   ]
  },
  {
   "cell_type": "code",
   "execution_count": 9,
   "id": "19a05843",
   "metadata": {
    "ExecuteTime": {
     "end_time": "2023-09-15T18:06:46.192935Z",
     "start_time": "2023-09-15T18:06:46.172934Z"
    }
   },
   "outputs": [
    {
     "name": "stdout",
     "output_type": "stream",
     "text": [
      "dataClassDf.names: ['RACE_FEATURE', 'GENDER_FEATURE', 'ZIP', 'MARITAL_STATUS_Life Partner', 'MARITAL_STATUS_Married', 'MARITAL_STATUS_Separated', 'MARITAL_STATUS_Single', 'MARITAL_STATUS_Unknown', 'MARITAL_STATUS_Widowed', 'SICK']\n",
      "caseControlSickOKCoded dims (33349, 22)\n",
      "dataClassDf            dims (33349, 22)\n"
     ]
    }
   ],
   "source": [
    "#\n",
    "# convert MARITAL_STATUS to mulitple (boolean) features\n",
    "#\n",
    "dataClassDf=pd.get_dummies(caseControlSickOKCoded, \n",
    "                             columns=[\"MARITAL_STATUS\"], \n",
    "                             drop_first=True)\n",
    "\n",
    "# remove columns we don't want\n",
    "\n",
    "\n",
    "dataClassDf = dataClassDf[\n",
    "    [\"RACE_FEATURE\",\"GENDER_FEATURE\",\"ZIP\",\n",
    "     'MARITAL_STATUS_Life Partner', 'MARITAL_STATUS_Married', 'MARITAL_STATUS_Separated', 'MARITAL_STATUS_Single', 'MARITAL_STATUS_Unknown', 'MARITAL_STATUS_Widowed',\n",
    "     \"SICK\"]]\n",
    "\n",
    "\n",
    "print(\"dataClassDf.names:\",dataClassDf.columns.tolist())\n",
    "\n",
    "print(\"caseControlSickOKCoded dims\", caseControlSickOKCoded.shape)\n",
    "print(\"dataClassDf            dims\", caseControlSickOKCoded.shape)"
   ]
  },
  {
   "cell_type": "markdown",
   "id": "9d107c69",
   "metadata": {},
   "source": [
    "## re-visualize"
   ]
  },
  {
   "cell_type": "markdown",
   "id": "a18b0f36",
   "metadata": {},
   "source": [
    "### RACE"
   ]
  },
  {
   "cell_type": "code",
   "execution_count": 10,
   "id": "5cbd9292",
   "metadata": {
    "ExecuteTime": {
     "end_time": "2023-09-15T18:06:46.522944Z",
     "start_time": "2023-09-15T18:06:46.194579Z"
    }
   },
   "outputs": [
    {
     "data": {
      "image/png": "[encoded data removed]",
      "text/plain": [
       "<Figure size 576x432 with 1 Axes>"
      ]
     },
     "metadata": {
      "needs_background": "light"
     },
     "output_type": "display_data"
    }
   ],
   "source": [
    "#\n",
    "# plot both on same chart. \n",
    "#\n",
    "plt.figure(figsize=(8, 6))  # Optional: Set the figure size\n",
    "plt.hist(\n",
    " #   [x[x[\"RACE_FEATURE\"]==1][\"SICK\"],x[x[\"RACE_FEATURE\"]==0][\"SICK\"]], label=[\"AA\",\"CA\"],\n",
    "    [\n",
    "        dataClassDf[dataClassDf[\"SICK\"]==1][\"RACE_FEATURE\"],\n",
    "        dataClassDf[dataClassDf[\"SICK\"]==0][\"RACE_FEATURE\"]\n",
    "    ], \n",
    "    label=[\"Case\",\"Control\"],\n",
    "    color=['red','skyblue'] ,\n",
    "    edgecolor='black', \n",
    "    bins=2,\n",
    "    density=True  # normalize\n",
    ")\n",
    "\n",
    "plt.xlabel(\"Race\")\n",
    "plt.xticks(ticks=[0.25,0.75],labels=[\"White\",\"African American\"], rotation=45)\n",
    "plt.ylabel('Frequency')\n",
    "plt.title(f'Histogram of Race (Cases & Controls) [normalized]')\n",
    "plt.grid(True)\n",
    "plt.legend(loc='upper right')\n",
    "plt.show()"
   ]
  },
  {
   "cell_type": "markdown",
   "id": "4c6fdd7e",
   "metadata": {},
   "source": [
    "### GENDER"
   ]
  },
  {
   "cell_type": "code",
   "execution_count": 11,
   "id": "614bf793",
   "metadata": {
    "ExecuteTime": {
     "end_time": "2023-09-15T18:06:46.719483Z",
     "start_time": "2023-09-15T18:06:46.526491Z"
    }
   },
   "outputs": [
    {
     "data": {
      "image/png": "[encoded data removed]",
      "text/plain": [
       "<Figure size 576x432 with 1 Axes>"
      ]
     },
     "metadata": {
      "needs_background": "light"
     },
     "output_type": "display_data"
    }
   ],
   "source": [
    "#\n",
    "# plot both on same chart. \n",
    "#\n",
    "plt.figure(figsize=(8, 6))  # Optional: Set the figure size\n",
    "plt.hist(\n",
    "    [\n",
    "        dataClassDf[dataClassDf[\"SICK\"]==1][\"GENDER_FEATURE\"],\n",
    "        dataClassDf[dataClassDf[\"SICK\"]==0][\"GENDER_FEATURE\"]\n",
    "    ], \n",
    "    label=[\"Case\",\"Control\"],\n",
    "    color=['red','skyblue'] ,\n",
    "    edgecolor='black', \n",
    "    bins=2,\n",
    "    density=True  # normalize\n",
    ")\n",
    "\n",
    "plt.xlabel(\"Gender\")\n",
    "plt.xticks(ticks=[0.25,0.75],labels=[\"Male\",\"Female\"], rotation=45)\n",
    "plt.ylabel('Frequency (normalized)')\n",
    "plt.title(f'Histogram of Race (Cases & Controls) [normalized]')\n",
    "plt.grid(True)\n",
    "plt.legend(loc='upper right')\n",
    "plt.show()"
   ]
  },
  {
   "cell_type": "markdown",
   "id": "ea857a76",
   "metadata": {},
   "source": [
    "### Marital Status"
   ]
  },
  {
   "cell_type": "code",
   "execution_count": 12,
   "id": "89eccb41",
   "metadata": {
    "ExecuteTime": {
     "end_time": "2023-09-15T18:06:46.859962Z",
     "start_time": "2023-09-15T18:06:46.723507Z"
    }
   },
   "outputs": [
    {
     "data": {
      "image/png": "[encoded data removed]",
      "text/plain": [
       "<Figure size 576x432 with 1 Axes>"
      ]
     },
     "metadata": {
      "needs_background": "light"
     },
     "output_type": "display_data"
    }
   ],
   "source": [
    "#\n",
    "# cheating a bit - going back before spliting each status into it's own feature\n",
    "#\n",
    "plt.figure(figsize=(8, 6))  # Optional: Set the figure size\n",
    "plt.hist(\n",
    "    [\n",
    "        caseControlSickOk[caseControlSickOk[\"SICK\"]==1][\"MARITAL_STATUS\"],\n",
    "        caseControlSickOk[caseControlSickOk[\"SICK\"]==0][\"MARITAL_STATUS\"]\n",
    "    ], \n",
    "    label=[\"Case\",\"Control\"],\n",
    "    color=['red','skyblue'] ,\n",
    "    edgecolor='black', \n",
    "    #bins=2,\n",
    "    density=True  # normalize\n",
    ")\n",
    "\n",
    "plt.xlabel(\"Marital Status\")\n",
    "plt.xticks(rotation=45)\n",
    "plt.ylabel('Frequency (normalized)')\n",
    "plt.title(f'Histogram of Marital Status (Cases & Controls) [normalized]')\n",
    "plt.grid(True)\n",
    "plt.legend(loc='upper right')\n",
    "plt.show()"
   ]
  },
  {
   "cell_type": "markdown",
   "id": "59c30ef0",
   "metadata": {},
   "source": [
    "### Zip Code\n",
    "This really needs a scatter plot of case vs control counts per zip...."
   ]
  },
  {
   "cell_type": "code",
   "execution_count": 13,
   "id": "5188818c",
   "metadata": {
    "ExecuteTime": {
     "end_time": "2023-09-15T18:06:46.870402Z",
     "start_time": "2023-09-15T18:06:46.862093Z"
    }
   },
   "outputs": [
    {
     "data": {
      "text/plain": [
       "35215.0    661\n",
       "35211.0    540\n",
       "35020.0    435\n",
       "35242.0    374\n",
       "35214.0    344\n",
       "          ... \n",
       "38632.0      1\n",
       "49858.0      1\n",
       "33712.0      1\n",
       "35662.0      1\n",
       "33069.0      1\n",
       "Name: ZIP, Length: 1730, dtype: int64"
      ]
     },
     "execution_count": 13,
     "metadata": {},
     "output_type": "execute_result"
    }
   ],
   "source": [
    "dataClassDf[\"ZIP\"].value_counts()"
   ]
  },
  {
   "cell_type": "code",
   "execution_count": 17,
   "id": "fe10a777",
   "metadata": {
    "ExecuteTime": {
     "end_time": "2023-09-15T18:09:10.611507Z",
     "start_time": "2023-09-15T18:09:10.395059Z"
    }
   },
   "outputs": [
    {
     "data": {
      "image/png": "[encoded data removed]",
      "text/plain": [
       "<Figure size 576x432 with 1 Axes>"
      ]
     },
     "metadata": {
      "needs_background": "light"
     },
     "output_type": "display_data"
    }
   ],
   "source": [
    "plt.figure(figsize=(8, 6))  # Optional: Set the figure size\n",
    "plt.hist(\n",
    "    dataClassDf[\"ZIP\"], \n",
    "    label=[\"Case\",\"Control\"],\n",
    "    color='skyblue' ,\n",
    "    edgecolor='black', \n",
    "    bins=100,\n",
    "    density=True  # normalize\n",
    ")\n",
    "\n",
    "plt.xlabel(\"ZIPCODE\")\n",
    "plt.xticks(rotation=90)#ticks=[0.25,0.75],labels=[\"Male\",\"Female\"])\n",
    "plt.ylabel('Frequency (normalized)')\n",
    "plt.title(f'Histogram of ZIPCODE (Cases & Controls) [normalized]')\n",
    "plt.grid(True)\n",
    "plt.legend(loc='upper right')\n",
    "plt.show()"
   ]
  },
  {
   "cell_type": "code",
   "execution_count": 14,
   "id": "2c0debc2",
   "metadata": {
    "ExecuteTime": {
     "end_time": "2023-09-15T18:06:53.990535Z",
     "start_time": "2023-09-15T18:06:53.686154Z"
    }
   },
   "outputs": [
    {
     "data": {
      "image/png": "[encoded data removed]",
      "text/plain": [
       "<Figure size 576x432 with 1 Axes>"
      ]
     },
     "metadata": {
      "needs_background": "light"
     },
     "output_type": "display_data"
    }
   ],
   "source": [
    "#\n",
    "# plot both on same chart. \n",
    "#\n",
    "zips3500 = dataClassDf[np.logical_and(dataClassDf[\"ZIP\"]>35000,dataClassDf[\"ZIP\"]<35200)]\n",
    "plt.figure(figsize=(8, 6))  # Optional: Set the figure size\n",
    "plt.hist(\n",
    "    [\n",
    "        dataClassDf[dataClassDf[\"SICK\"]==1][\"ZIP\"],\n",
    "        dataClassDf[dataClassDf[\"SICK\"]==0][\"ZIP\"]\n",
    "    ], \n",
    "    label=[\"Case\",\"Control\"],\n",
    "    color=['red','skyblue'] ,\n",
    "    edgecolor='black', \n",
    "    bins=100,\n",
    "    density=True  # normalize\n",
    ")\n",
    "\n",
    "plt.xlabel(\"ZIPCODE\")\n",
    "plt.xticks(rotation=90)#ticks=[0.25,0.75],labels=[\"Male\",\"Female\"])\n",
    "plt.ylabel('Frequency (normalized)')\n",
    "plt.title(f'Histogram of ZIPCODE (Cases & Controls) [normalized]')\n",
    "plt.grid(True)\n",
    "plt.legend(loc='upper right')\n",
    "plt.show()"
   ]
  },
  {
   "cell_type": "code",
   "execution_count": 28,
   "id": "355c8bae",
   "metadata": {
    "ExecuteTime": {
     "end_time": "2023-09-15T17:11:38.006100Z",
     "start_time": "2023-09-15T17:11:37.698006Z"
    }
   },
   "outputs": [
    {
     "data": {
      "image/png": "[encoded data removed]",
      "text/plain": [
       "<Figure size 576x432 with 1 Axes>"
      ]
     },
     "metadata": {
      "needs_background": "light"
     },
     "output_type": "display_data"
    }
   ],
   "source": [
    "#\n",
    "# plot both on same chart. \n",
    "#\n",
    "zips3500 = dataClassDf[np.logical_and(dataClassDf[\"ZIP\"]>35000,dataClassDf[\"ZIP\"]<35200)]\n",
    "plt.figure(figsize=(8, 6))  # Optional: Set the figure size\n",
    "plt.hist(\n",
    "    [\n",
    "        zips3500[zips3500[\"SICK\"]==1][\"ZIP\"],\n",
    "        zips3500[zips3500[\"SICK\"]==0][\"ZIP\"]\n",
    "    ], \n",
    "    label=[\"Case\",\"Control\"],\n",
    "    color=['red','skyblue'] ,\n",
    "    edgecolor='black', \n",
    "    bins=100,\n",
    "    density=True  # normalize\n",
    ")\n",
    "\n",
    "plt.xlabel(\"ZIPCODE\")\n",
    "plt.xticks(rotation=90)#ticks=[0.25,0.75],labels=[\"Male\",\"Female\"])\n",
    "plt.ylabel('Frequency (normalized)')\n",
    "plt.title(f'Histogram of ZIPCODE (Cases & Controls) [normalized]')\n",
    "plt.grid(True)\n",
    "plt.legend(loc='upper right')\n",
    "plt.show()"
   ]
  },
  {
   "cell_type": "markdown",
   "id": "59b4a1c7",
   "metadata": {},
   "source": [
    "## Format data for ML"
   ]
  },
  {
   "cell_type": "code",
   "execution_count": 49,
   "id": "c6a2db1a",
   "metadata": {
    "ExecuteTime": {
     "end_time": "2023-09-15T17:28:33.526420Z",
     "start_time": "2023-09-15T17:28:33.516156Z"
    }
   },
   "outputs": [
    {
     "name": "stdout",
     "output_type": "stream",
     "text": [
      "feature_names: ['RACE_FEATURE', 'GENDER_FEATURE', 'ZIP', 'MARITAL_STATUS_Life Partner', 'MARITAL_STATUS_Married', 'MARITAL_STATUS_Separated', 'MARITAL_STATUS_Single', 'MARITAL_STATUS_Unknown', 'MARITAL_STATUS_Widowed']\n",
      "dataClassDf dims (33188, 10)\n"
     ]
    }
   ],
   "source": [
    "# convert our dataFrame to a numpy array of integers\n",
    "feature_names=dataClassDf.columns.tolist()[:-1]\n",
    "print(\"feature_names:\",feature_names)\n",
    "# test on 3 rows\n",
    "#x[feature_names][0:3].astype('int')\n",
    "#data = np.array(x[x.columns.tolist()[:-1]][0:3].astype('int'))\n",
    "data = np.array(dataClassDf[feature_names].astype('int'))\n",
    "data[0:3]\n",
    "print(\"dataClassDf dims\", dataClassDf.shape)"
   ]
  },
  {
   "cell_type": "code",
   "execution_count": 31,
   "id": "2d023880",
   "metadata": {
    "ExecuteTime": {
     "end_time": "2023-09-15T17:15:05.069054Z",
     "start_time": "2023-09-15T17:15:05.061614Z"
    }
   },
   "outputs": [
    {
     "data": {
      "text/plain": [
       "{'data': array([[    1,     0, 36083, ...,     1,     0,     0],\n",
       "        [    1,     0, 36027, ...,     0,     0,     0],\n",
       "        [    1,     1, 35214, ...,     1,     0,     0],\n",
       "        ...,\n",
       "        [    1,     0, 35115, ...,     1,     0,     0],\n",
       "        [    1,     0, 35235, ...,     0,     0,     0],\n",
       "        [    0,     0, 36066, ...,     0,     0,     0]]),\n",
       " 'target': 0        1\n",
       " 1        1\n",
       " 2        1\n",
       " 3        1\n",
       " 4        1\n",
       "         ..\n",
       " 32489    0\n",
       " 24480    0\n",
       " 97666    0\n",
       " 23801    0\n",
       " 74973    0\n",
       " Name: SICK, Length: 33188, dtype: int64,\n",
       " 'feature_names': ['RACE_FEATURE',\n",
       "  'GENDER_FEATURE',\n",
       "  'ZIP',\n",
       "  'MARITAL_STATUS_Life Partner',\n",
       "  'MARITAL_STATUS_Married',\n",
       "  'MARITAL_STATUS_Separated',\n",
       "  'MARITAL_STATUS_Single',\n",
       "  'MARITAL_STATUS_Unknown',\n",
       "  'MARITAL_STATUS_Widowed']}"
      ]
     },
     "execution_count": 31,
     "metadata": {},
     "output_type": "execute_result"
    }
   ],
   "source": [
    "# build Bunch data dictionary for analysis\n",
    "from sklearn.utils import Bunch\n",
    "\n",
    "ds = Bunch(data=data,target=dataClassDf[\"SICK\"].astype('int'),feature_names=feature_names)\n",
    "\n",
    "ds"
   ]
  },
  {
   "cell_type": "code",
   "execution_count": 35,
   "id": "7cb0ac1b",
   "metadata": {
    "ExecuteTime": {
     "end_time": "2023-09-15T17:19:41.710402Z",
     "start_time": "2023-09-15T17:19:41.705601Z"
    }
   },
   "outputs": [],
   "source": [
    "label_names = [\"Sick\",\"Healthy\"]\n",
    "labels = ds['target']\n",
    "feature_names = ds['feature_names']\n",
    "features = ds['data']"
   ]
  },
  {
   "cell_type": "markdown",
   "id": "03d3dbf5",
   "metadata": {},
   "source": [
    "## Try logistical regression"
   ]
  },
  {
   "cell_type": "code",
   "execution_count": 34,
   "id": "58dfa0d5",
   "metadata": {
    "ExecuteTime": {
     "end_time": "2023-09-15T17:19:39.207082Z",
     "start_time": "2023-09-15T17:19:38.739634Z"
    }
   },
   "outputs": [],
   "source": [
    "# load libraries\n",
    "import numpy as np\n",
    "from sklearn.model_selection import train_test_split\n",
    "from sklearn.linear_model import LogisticRegression\n",
    "from sklearn.metrics import accuracy_score, classification_report, confusion_matrix\n"
   ]
  },
  {
   "cell_type": "markdown",
   "id": "003ec270",
   "metadata": {},
   "source": [
    "### split into train/test"
   ]
  },
  {
   "cell_type": "code",
   "execution_count": 57,
   "id": "a38acf02",
   "metadata": {
    "ExecuteTime": {
     "end_time": "2023-09-15T17:32:55.640519Z",
     "start_time": "2023-09-15T17:32:55.634537Z"
    }
   },
   "outputs": [
    {
     "name": "stdout",
     "output_type": "stream",
     "text": [
      "data dims  (33188, 9)\n",
      "train dims (19912, 9)\n",
      "test dims  (13276, 9)\n"
     ]
    }
   ],
   "source": [
    "#\n",
    "# split to training and test subsets\n",
    "#\n",
    "from sklearn.model_selection import train_test_split\n",
    "train, test, train_labels, test_labels = train_test_split(features,\n",
    "                                                          labels,\n",
    "                                                          test_size = 0.40, \n",
    "                                                          random_state = 42)\n",
    "print(\"data dims \", data.shape)\n",
    "print(\"train dims\", train.shape)\n",
    "print(\"test dims \", test.shape)\n",
    "\n"
   ]
  },
  {
   "cell_type": "markdown",
   "id": "f9a80301",
   "metadata": {
    "ExecuteTime": {
     "end_time": "2023-09-15T17:33:08.755416Z",
     "start_time": "2023-09-15T17:33:08.753288Z"
    }
   },
   "source": [
    "### build model, train"
   ]
  },
  {
   "cell_type": "code",
   "execution_count": null,
   "id": "e633eb65",
   "metadata": {},
   "outputs": [],
   "source": [
    "# Initialize the logistic regression model\n",
    "logistic_reg = LogisticRegression()\n",
    "\n",
    "# Fit the model to the training data\n",
    "logistic_reg.fit(train, train_labels)"
   ]
  },
  {
   "cell_type": "markdown",
   "id": "04f74d8c",
   "metadata": {},
   "source": [
    "### predict"
   ]
  },
  {
   "cell_type": "code",
   "execution_count": 61,
   "id": "d64cac9f",
   "metadata": {
    "ExecuteTime": {
     "end_time": "2023-09-15T17:34:18.753350Z",
     "start_time": "2023-09-15T17:34:18.651009Z"
    }
   },
   "outputs": [
    {
     "name": "stdout",
     "output_type": "stream",
     "text": [
      "infection predictions:  0 int64\n"
     ]
    },
    {
     "data": {
      "image/png": "[encoded data removed]",
      "text/plain": [
       "<Figure size 432x288 with 1 Axes>"
      ]
     },
     "metadata": {
      "needs_background": "light"
     },
     "output_type": "display_data"
    }
   ],
   "source": [
    "preds=logistic_reg.predict(test)\n",
    "\n",
    "print(\"infection predictions: \", sum(preds==True), preds.dtype)\n",
    "plt.figure()\n",
    "plt.hist(preds)\n",
    "plt.show()\n",
    "#clf.predict_proba(X[:2, :])\n",
    "\n",
    "#clf.score(X, y)"
   ]
  },
  {
   "cell_type": "markdown",
   "id": "059c876b",
   "metadata": {
    "ExecuteTime": {
     "end_time": "2023-09-15T17:34:01.639387Z",
     "start_time": "2023-09-15T17:34:01.637406Z"
    }
   },
   "source": [
    "### interogate predictions"
   ]
  },
  {
   "cell_type": "code",
   "execution_count": 62,
   "id": "7242689a",
   "metadata": {
    "ExecuteTime": {
     "end_time": "2023-09-15T17:34:49.932428Z",
     "start_time": "2023-09-15T17:34:49.902022Z"
    }
   },
   "outputs": [
    {
     "ename": "ValueError",
     "evalue": "Classification metrics can't handle a mix of multiclass-multioutput and binary targets",
     "output_type": "error",
     "traceback": [
      "\u001b[0;31m---------------------------------------------------------------------------\u001b[0m",
      "\u001b[0;31mValueError\u001b[0m                                Traceback (most recent call last)",
      "Input \u001b[0;32mIn [62]\u001b[0m, in \u001b[0;36m<cell line: 6>\u001b[0;34m()\u001b[0m\n\u001b[1;32m      3\u001b[0m preds \u001b[38;5;241m=\u001b[39m logistic_reg\u001b[38;5;241m.\u001b[39mpredict(test)\n\u001b[1;32m      5\u001b[0m \u001b[38;5;66;03m# Evaluate the model\u001b[39;00m\n\u001b[0;32m----> 6\u001b[0m accuracy \u001b[38;5;241m=\u001b[39m \u001b[43maccuracy_score\u001b[49m\u001b[43m(\u001b[49m\u001b[43mtest\u001b[49m\u001b[43m,\u001b[49m\u001b[43m \u001b[49m\u001b[43mpreds\u001b[49m\u001b[43m)\u001b[49m\n\u001b[1;32m      7\u001b[0m confusion \u001b[38;5;241m=\u001b[39m confusion_matrix(test, preds)\n\u001b[1;32m      8\u001b[0m classification_rep \u001b[38;5;241m=\u001b[39m classification_report(test, preds)\n",
      "File \u001b[0;32m/share/apps/rc/software/Anaconda3/2022.05/lib/python3.9/site-packages/sklearn/metrics/_classification.py:211\u001b[0m, in \u001b[0;36maccuracy_score\u001b[0;34m(y_true, y_pred, normalize, sample_weight)\u001b[0m\n\u001b[1;32m    145\u001b[0m \u001b[38;5;124;03m\"\"\"Accuracy classification score.\u001b[39;00m\n\u001b[1;32m    146\u001b[0m \n\u001b[1;32m    147\u001b[0m \u001b[38;5;124;03mIn multilabel classification, this function computes subset accuracy:\u001b[39;00m\n\u001b[0;32m   (...)\u001b[0m\n\u001b[1;32m    207\u001b[0m \u001b[38;5;124;03m0.5\u001b[39;00m\n\u001b[1;32m    208\u001b[0m \u001b[38;5;124;03m\"\"\"\u001b[39;00m\n\u001b[1;32m    210\u001b[0m \u001b[38;5;66;03m# Compute accuracy for each possible representation\u001b[39;00m\n\u001b[0;32m--> 211\u001b[0m y_type, y_true, y_pred \u001b[38;5;241m=\u001b[39m \u001b[43m_check_targets\u001b[49m\u001b[43m(\u001b[49m\u001b[43my_true\u001b[49m\u001b[43m,\u001b[49m\u001b[43m \u001b[49m\u001b[43my_pred\u001b[49m\u001b[43m)\u001b[49m\n\u001b[1;32m    212\u001b[0m check_consistent_length(y_true, y_pred, sample_weight)\n\u001b[1;32m    213\u001b[0m \u001b[38;5;28;01mif\u001b[39;00m y_type\u001b[38;5;241m.\u001b[39mstartswith(\u001b[38;5;124m\"\u001b[39m\u001b[38;5;124mmultilabel\u001b[39m\u001b[38;5;124m\"\u001b[39m):\n",
      "File \u001b[0;32m/share/apps/rc/software/Anaconda3/2022.05/lib/python3.9/site-packages/sklearn/metrics/_classification.py:93\u001b[0m, in \u001b[0;36m_check_targets\u001b[0;34m(y_true, y_pred)\u001b[0m\n\u001b[1;32m     90\u001b[0m     y_type \u001b[38;5;241m=\u001b[39m {\u001b[38;5;124m\"\u001b[39m\u001b[38;5;124mmulticlass\u001b[39m\u001b[38;5;124m\"\u001b[39m}\n\u001b[1;32m     92\u001b[0m \u001b[38;5;28;01mif\u001b[39;00m \u001b[38;5;28mlen\u001b[39m(y_type) \u001b[38;5;241m>\u001b[39m \u001b[38;5;241m1\u001b[39m:\n\u001b[0;32m---> 93\u001b[0m     \u001b[38;5;28;01mraise\u001b[39;00m \u001b[38;5;167;01mValueError\u001b[39;00m(\n\u001b[1;32m     94\u001b[0m         \u001b[38;5;124m\"\u001b[39m\u001b[38;5;124mClassification metrics can\u001b[39m\u001b[38;5;124m'\u001b[39m\u001b[38;5;124mt handle a mix of \u001b[39m\u001b[38;5;132;01m{0}\u001b[39;00m\u001b[38;5;124m and \u001b[39m\u001b[38;5;132;01m{1}\u001b[39;00m\u001b[38;5;124m targets\u001b[39m\u001b[38;5;124m\"\u001b[39m\u001b[38;5;241m.\u001b[39mformat(\n\u001b[1;32m     95\u001b[0m             type_true, type_pred\n\u001b[1;32m     96\u001b[0m         )\n\u001b[1;32m     97\u001b[0m     )\n\u001b[1;32m     99\u001b[0m \u001b[38;5;66;03m# We can't have more than one value on y_type => The set is no more needed\u001b[39;00m\n\u001b[1;32m    100\u001b[0m y_type \u001b[38;5;241m=\u001b[39m y_type\u001b[38;5;241m.\u001b[39mpop()\n",
      "\u001b[0;31mValueError\u001b[0m: Classification metrics can't handle a mix of multiclass-multioutput and binary targets"
     ]
    }
   ],
   "source": [
    "### does this make sense for logistic Reg\n",
    "# Make predictions on the test set\n",
    "preds = logistic_reg.predict(test)\n",
    "\n",
    "# Evaluate the model\n",
    "accuracy = accuracy_score(test, preds)\n",
    "confusion = confusion_matrix(test, preds)\n",
    "classification_rep = classification_report(test, preds)\n",
    "\n",
    "# Print the results\n",
    "print(\"Accuracy:\", accuracy)\n",
    "print(\"Confusion Matrix:\\n\", confusion)\n",
    "print(\"Classification Report:\\n\", classification_rep)\n"
   ]
  }
 ],
 "metadata": {
  "anaconda-cloud": {},
  "kernelspec": {
   "display_name": "Python 3 (ipykernel)",
   "language": "python",
   "name": "python3"
  },
  "language_info": {
   "codemirror_mode": {
    "name": "ipython",
    "version": 3
   },
   "file_extension": ".py",
   "mimetype": "text/x-python",
   "name": "python",
   "nbconvert_exporter": "python",
   "pygments_lexer": "ipython3",
   "version": "3.9.12"
  },
  "toc": {
   "base_numbering": 1,
   "nav_menu": {},
   "number_sections": true,
   "sideBar": true,
   "skip_h1_title": false,
   "title_cell": "Table of Contents",
   "title_sidebar": "Contents",
   "toc_cell": false,
   "toc_position": {},
   "toc_section_display": true,
   "toc_window_display": false
  }
 },
 "nbformat": 4,
 "nbformat_minor": 5
}
